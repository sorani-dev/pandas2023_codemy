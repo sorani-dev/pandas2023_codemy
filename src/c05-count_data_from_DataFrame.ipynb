{
 "cells": [
  {
   "cell_type": "markdown",
   "id": "3b82e17c-f6a2-4968-a688-408a4d02f221",
   "metadata": {},
   "source": [
    "# Count data in a DataFrame"
   ]
  },
  {
   "cell_type": "code",
   "execution_count": 31,
   "id": "3fad581e-e1fa-4fb8-984f-b28ffff6be63",
   "metadata": {},
   "outputs": [],
   "source": [
    "import pandas as pd\n",
    "import numpy as np"
   ]
  },
  {
   "cell_type": "code",
   "execution_count": 32,
   "id": "47f994c7-9d1c-497c-9f51-213e28a6f645",
   "metadata": {},
   "outputs": [
    {
     "data": {
      "text/html": [
       "<div>\n",
       "<style scoped>\n",
       "    .dataframe tbody tr th:only-of-type {\n",
       "        vertical-align: middle;\n",
       "    }\n",
       "\n",
       "    .dataframe tbody tr th {\n",
       "        vertical-align: top;\n",
       "    }\n",
       "\n",
       "    .dataframe thead th {\n",
       "        text-align: right;\n",
       "    }\n",
       "</style>\n",
       "<table border=\"1\" class=\"dataframe\">\n",
       "  <thead>\n",
       "    <tr style=\"text-align: right;\">\n",
       "      <th></th>\n",
       "      <th>Breed</th>\n",
       "      <th>Color</th>\n",
       "      <th>DogName</th>\n",
       "      <th>OwnerZip</th>\n",
       "    </tr>\n",
       "  </thead>\n",
       "  <tbody>\n",
       "    <tr>\n",
       "      <th>0</th>\n",
       "      <td>COCKAPOO</td>\n",
       "      <td>BROWN</td>\n",
       "      <td>CHARLEY</td>\n",
       "      <td>15236</td>\n",
       "    </tr>\n",
       "    <tr>\n",
       "      <th>1</th>\n",
       "      <td>GER SHEPHERD</td>\n",
       "      <td>BLACK/BROWN</td>\n",
       "      <td>TACODA</td>\n",
       "      <td>15238</td>\n",
       "    </tr>\n",
       "    <tr>\n",
       "      <th>2</th>\n",
       "      <td>BELG MALINOIS</td>\n",
       "      <td>BRINDLE</td>\n",
       "      <td>EICH</td>\n",
       "      <td>15238</td>\n",
       "    </tr>\n",
       "    <tr>\n",
       "      <th>3</th>\n",
       "      <td>MIXED</td>\n",
       "      <td>BLACK/BROWN</td>\n",
       "      <td>ARROW</td>\n",
       "      <td>15104</td>\n",
       "    </tr>\n",
       "    <tr>\n",
       "      <th>4</th>\n",
       "      <td>AM PIT BULL TERRIER</td>\n",
       "      <td>WHITE/BROWN</td>\n",
       "      <td>OAKLEY</td>\n",
       "      <td>15139</td>\n",
       "    </tr>\n",
       "    <tr>\n",
       "      <th>...</th>\n",
       "      <td>...</td>\n",
       "      <td>...</td>\n",
       "      <td>...</td>\n",
       "      <td>...</td>\n",
       "    </tr>\n",
       "    <tr>\n",
       "      <th>2665</th>\n",
       "      <td>GOLDENDOODLE</td>\n",
       "      <td>BROWN</td>\n",
       "      <td>WINSLOW</td>\n",
       "      <td>15044</td>\n",
       "    </tr>\n",
       "    <tr>\n",
       "      <th>2666</th>\n",
       "      <td>YORKSHIRE TERRIER</td>\n",
       "      <td>BLACK/BROWN</td>\n",
       "      <td>ROCKY KALAKOS</td>\n",
       "      <td>15220</td>\n",
       "    </tr>\n",
       "    <tr>\n",
       "      <th>2667</th>\n",
       "      <td>LAB MIX</td>\n",
       "      <td>WHITE/BLACK/BROWN</td>\n",
       "      <td>ELLIE</td>\n",
       "      <td>15220</td>\n",
       "    </tr>\n",
       "    <tr>\n",
       "      <th>2668</th>\n",
       "      <td>GOLDENDOODLE</td>\n",
       "      <td>WHITE</td>\n",
       "      <td>CLARENCE</td>\n",
       "      <td>15143</td>\n",
       "    </tr>\n",
       "    <tr>\n",
       "      <th>2669</th>\n",
       "      <td>SHETLAND SHEEPDOG</td>\n",
       "      <td>BLACK</td>\n",
       "      <td>GRIFFIN</td>\n",
       "      <td>15136</td>\n",
       "    </tr>\n",
       "  </tbody>\n",
       "</table>\n",
       "<p>2670 rows × 4 columns</p>\n",
       "</div>"
      ],
      "text/plain": [
       "                    Breed              Color        DogName  OwnerZip\n",
       "0                COCKAPOO              BROWN        CHARLEY     15236\n",
       "1            GER SHEPHERD        BLACK/BROWN         TACODA     15238\n",
       "2           BELG MALINOIS            BRINDLE           EICH     15238\n",
       "3                   MIXED        BLACK/BROWN          ARROW     15104\n",
       "4     AM PIT BULL TERRIER        WHITE/BROWN         OAKLEY     15139\n",
       "...                   ...                ...            ...       ...\n",
       "2665         GOLDENDOODLE              BROWN        WINSLOW     15044\n",
       "2666    YORKSHIRE TERRIER        BLACK/BROWN  ROCKY KALAKOS     15220\n",
       "2667              LAB MIX  WHITE/BLACK/BROWN          ELLIE     15220\n",
       "2668         GOLDENDOODLE              WHITE       CLARENCE     15143\n",
       "2669    SHETLAND SHEEPDOG              BLACK        GRIFFIN     15136\n",
       "\n",
       "[2670 rows x 4 columns]"
      ]
     },
     "execution_count": 32,
     "metadata": {},
     "output_type": "execute_result"
    }
   ],
   "source": [
    "# import csv file\n",
    "df = pd.read_csv('data/dog_data.csv')\n",
    "df"
   ]
  },
  {
   "cell_type": "markdown",
   "id": "f70bceae-9697-470d-b3bd-8f60d51862c5",
   "metadata": {},
   "source": [
    "Count Distinct Values - Descending Order"
   ]
  },
  {
   "cell_type": "code",
   "execution_count": 33,
   "id": "132560e6-7857-4106-839b-25516f83826e",
   "metadata": {},
   "outputs": [
    {
     "data": {
      "text/plain": [
       "BLACK                   371\n",
       "BROWN                   309\n",
       "WHITE                   226\n",
       "WHITE/BLACK             196\n",
       "BLACK/BROWN             183\n",
       "                       ... \n",
       "BLACK/ORANGE/BRINDLE      1\n",
       "BROWN/ORANGE              1\n",
       "BROWN/FAWN                1\n",
       "BLACK/BROWN/GREY          1\n",
       "BROWN/LIVER               1\n",
       "Name: Color, Length: 72, dtype: int64"
      ]
     },
     "execution_count": 33,
     "metadata": {},
     "output_type": "execute_result"
    }
   ],
   "source": [
    "# Count Distinct Values - Descending Order\n",
    "df['Color'].value_counts()"
   ]
  },
  {
   "cell_type": "markdown",
   "id": "47d7edbd-847f-48b2-854f-6cf3efa319dc",
   "metadata": {},
   "source": [
    "Count Distinct Values - Ascending Order (Color)"
   ]
  },
  {
   "cell_type": "code",
   "execution_count": 34,
   "id": "11b7d46d-1374-46e9-9e6b-fc168c627828",
   "metadata": {},
   "outputs": [
    {
     "data": {
      "text/plain": [
       "BROWN/LIVER               1\n",
       "BROWN/FAWN                1\n",
       "BROWN/ORANGE              1\n",
       "BLACK/ORANGE/BRINDLE      1\n",
       "BLACK/BROWN/GREY          1\n",
       "                       ... \n",
       "BLACK/BROWN             183\n",
       "WHITE/BLACK             196\n",
       "WHITE                   226\n",
       "BROWN                   309\n",
       "BLACK                   371\n",
       "Name: Color, Length: 72, dtype: int64"
      ]
     },
     "execution_count": 34,
     "metadata": {},
     "output_type": "execute_result"
    }
   ],
   "source": [
    "# Count Distinct Values - Ascending Order (Color)\n",
    "df['Color'].value_counts(ascending=True)"
   ]
  },
  {
   "cell_type": "markdown",
   "id": "7f491523-2e5a-4459-ae39-e19876bce2f1",
   "metadata": {},
   "source": [
    "Dog Names - without null values (NaN, na)"
   ]
  },
  {
   "cell_type": "code",
   "execution_count": 35,
   "id": "762735be-a558-4379-b4c7-7771effc5e9f",
   "metadata": {},
   "outputs": [
    {
     "data": {
      "text/plain": [
       "BABY GIRL     1\n",
       "JASZMINE      1\n",
       "HENRY         1\n",
       "GOJIRA        1\n",
       "STEVIE        1\n",
       "             ..\n",
       "DAISY        26\n",
       "BUDDY        29\n",
       "BAILEY       29\n",
       "BELLA        30\n",
       "LUCY         35\n",
       "Name: DogName, Length: 1428, dtype: int64"
      ]
     },
     "execution_count": 35,
     "metadata": {},
     "output_type": "execute_result"
    }
   ],
   "source": [
    "# Count Distinct Values - Ascending Order\n",
    "df['DogName'].value_counts(ascending=True)"
   ]
  },
  {
   "cell_type": "markdown",
   "id": "fca3fe39-52f8-4b71-ba51-ccbf67621ed4",
   "metadata": {},
   "source": [
    "Dog Names - with null values (NaN, na)"
   ]
  },
  {
   "cell_type": "code",
   "execution_count": 36,
   "id": "afa42fc9-5042-4561-94e9-6b6f036cc03e",
   "metadata": {},
   "outputs": [
    {
     "data": {
      "text/plain": [
       "BABY GIRL         1\n",
       "HENRY             1\n",
       "GOJIRA            1\n",
       "STEVIE            1\n",
       "DONNA DI CODA     1\n",
       "                 ..\n",
       "DAISY            26\n",
       "BAILEY           29\n",
       "BUDDY            29\n",
       "BELLA            30\n",
       "LUCY             35\n",
       "Name: DogName, Length: 1429, dtype: int64"
      ]
     },
     "execution_count": 36,
     "metadata": {},
     "output_type": "execute_result"
    }
   ],
   "source": [
    "# Dog Names with NaN and na\n",
    "df[\"DogName\"].value_counts(ascending=True, dropna=False)"
   ]
  },
  {
   "cell_type": "markdown",
   "id": "f7dca446-1a6a-4331-b45a-a4b4ca2bd200",
   "metadata": {},
   "source": [
    "Relative Frequency - Percentage"
   ]
  },
  {
   "cell_type": "code",
   "execution_count": 37,
   "id": "8eee29c4-2611-4fe3-9fe9-9579a7de9043",
   "metadata": {},
   "outputs": [
    {
     "data": {
      "text/plain": [
       "(BLACK                   0.139212\n",
       " BROWN                   0.115947\n",
       " WHITE                   0.084803\n",
       " WHITE/BLACK             0.073546\n",
       " BLACK/BROWN             0.068668\n",
       "                           ...   \n",
       " BLACK/ORANGE/BRINDLE    0.000375\n",
       " BROWN/ORANGE            0.000375\n",
       " BROWN/FAWN              0.000375\n",
       " BLACK/BROWN/GREY        0.000375\n",
       " BROWN/LIVER             0.000375\n",
       " Name: Color, Length: 72, dtype: float64,\n",
       " BLACK                   13.921201\n",
       " BROWN                   11.594747\n",
       " WHITE                    8.480300\n",
       " WHITE/BLACK              7.354597\n",
       " BLACK/BROWN              6.866792\n",
       "                           ...    \n",
       " BLACK/ORANGE/BRINDLE     0.037523\n",
       " BROWN/ORANGE             0.037523\n",
       " BROWN/FAWN               0.037523\n",
       " BLACK/BROWN/GREY         0.037523\n",
       " BROWN/LIVER              0.037523\n",
       " Name: Color, Length: 72, dtype: float64,\n",
       " 100.0)"
      ]
     },
     "execution_count": 37,
     "metadata": {},
     "output_type": "execute_result"
    }
   ],
   "source": [
    "# Relative Frequency - Percentage\n",
    "df[\"Color\"].value_counts(normalize=True), \\\n",
    "df[\"Color\"].value_counts(normalize=True) * 100, \\\n",
    "np.sum(df[\"Color\"].value_counts(normalize=True) * 100)"
   ]
  },
  {
   "cell_type": "markdown",
   "id": "9b84cd1a-d00e-45e3-9036-e1de9955e10a",
   "metadata": {},
   "source": [
    "Get specific Item Count"
   ]
  },
  {
   "cell_type": "code",
   "execution_count": 38,
   "id": "56c07e0e-ba8f-4f59-a9f0-c99be889b954",
   "metadata": {},
   "outputs": [
    {
     "data": {
      "text/plain": [
       "226"
      ]
     },
     "execution_count": 38,
     "metadata": {},
     "output_type": "execute_result"
    }
   ],
   "source": [
    "# Get specific Item Count\n",
    "df[\"Color\"].value_counts()[\"WHITE\"]"
   ]
  },
  {
   "cell_type": "markdown",
   "id": "e50eeab6-9048-44fa-9877-36309005e4b0",
   "metadata": {},
   "source": [
    "Count unique values - Size"
   ]
  },
  {
   "cell_type": "code",
   "execution_count": 39,
   "id": "b24ef954-040e-4446-b4ea-512c2270521c",
   "metadata": {},
   "outputs": [
    {
     "data": {
      "text/plain": [
       "Color\n",
       "APRICOT              15\n",
       "BEIGE                 5\n",
       "BLACK               371\n",
       "BLACK WITH WHITE     21\n",
       "BLACK/BRINDLE         5\n",
       "                   ... \n",
       "WHITE/ORANGE          5\n",
       "WHITE/RED            14\n",
       "WHITE/TAN            50\n",
       "WHITE/YELLOW          2\n",
       "YELLOW               51\n",
       "Length: 72, dtype: int64"
      ]
     },
     "execution_count": 39,
     "metadata": {},
     "output_type": "execute_result"
    }
   ],
   "source": [
    "# Count unique values - Size\n",
    "df.groupby('Color').size()"
   ]
  },
  {
   "cell_type": "markdown",
   "id": "bd65f4b2-ff9e-4281-8a1f-0e2e983ae2f5",
   "metadata": {},
   "source": [
    "Count unique values - Count"
   ]
  },
  {
   "cell_type": "code",
   "execution_count": 40,
   "id": "3a9ae118-977c-4ffa-ab14-bb5d69562d61",
   "metadata": {},
   "outputs": [
    {
     "data": {
      "text/html": [
       "<div>\n",
       "<style scoped>\n",
       "    .dataframe tbody tr th:only-of-type {\n",
       "        vertical-align: middle;\n",
       "    }\n",
       "\n",
       "    .dataframe tbody tr th {\n",
       "        vertical-align: top;\n",
       "    }\n",
       "\n",
       "    .dataframe thead th {\n",
       "        text-align: right;\n",
       "    }\n",
       "</style>\n",
       "<table border=\"1\" class=\"dataframe\">\n",
       "  <thead>\n",
       "    <tr style=\"text-align: right;\">\n",
       "      <th></th>\n",
       "      <th>Breed</th>\n",
       "      <th>DogName</th>\n",
       "      <th>OwnerZip</th>\n",
       "    </tr>\n",
       "    <tr>\n",
       "      <th>Color</th>\n",
       "      <th></th>\n",
       "      <th></th>\n",
       "      <th></th>\n",
       "    </tr>\n",
       "  </thead>\n",
       "  <tbody>\n",
       "    <tr>\n",
       "      <th>APRICOT</th>\n",
       "      <td>15</td>\n",
       "      <td>15</td>\n",
       "      <td>15</td>\n",
       "    </tr>\n",
       "    <tr>\n",
       "      <th>BEIGE</th>\n",
       "      <td>5</td>\n",
       "      <td>5</td>\n",
       "      <td>5</td>\n",
       "    </tr>\n",
       "    <tr>\n",
       "      <th>BLACK</th>\n",
       "      <td>371</td>\n",
       "      <td>371</td>\n",
       "      <td>371</td>\n",
       "    </tr>\n",
       "    <tr>\n",
       "      <th>BLACK WITH WHITE</th>\n",
       "      <td>21</td>\n",
       "      <td>21</td>\n",
       "      <td>21</td>\n",
       "    </tr>\n",
       "    <tr>\n",
       "      <th>BLACK/BRINDLE</th>\n",
       "      <td>5</td>\n",
       "      <td>5</td>\n",
       "      <td>5</td>\n",
       "    </tr>\n",
       "    <tr>\n",
       "      <th>...</th>\n",
       "      <td>...</td>\n",
       "      <td>...</td>\n",
       "      <td>...</td>\n",
       "    </tr>\n",
       "    <tr>\n",
       "      <th>WHITE/ORANGE</th>\n",
       "      <td>5</td>\n",
       "      <td>5</td>\n",
       "      <td>5</td>\n",
       "    </tr>\n",
       "    <tr>\n",
       "      <th>WHITE/RED</th>\n",
       "      <td>14</td>\n",
       "      <td>14</td>\n",
       "      <td>14</td>\n",
       "    </tr>\n",
       "    <tr>\n",
       "      <th>WHITE/TAN</th>\n",
       "      <td>50</td>\n",
       "      <td>50</td>\n",
       "      <td>50</td>\n",
       "    </tr>\n",
       "    <tr>\n",
       "      <th>WHITE/YELLOW</th>\n",
       "      <td>2</td>\n",
       "      <td>2</td>\n",
       "      <td>2</td>\n",
       "    </tr>\n",
       "    <tr>\n",
       "      <th>YELLOW</th>\n",
       "      <td>51</td>\n",
       "      <td>51</td>\n",
       "      <td>51</td>\n",
       "    </tr>\n",
       "  </tbody>\n",
       "</table>\n",
       "<p>72 rows × 3 columns</p>\n",
       "</div>"
      ],
      "text/plain": [
       "                  Breed  DogName  OwnerZip\n",
       "Color                                     \n",
       "APRICOT              15       15        15\n",
       "BEIGE                 5        5         5\n",
       "BLACK               371      371       371\n",
       "BLACK WITH WHITE     21       21        21\n",
       "BLACK/BRINDLE         5        5         5\n",
       "...                 ...      ...       ...\n",
       "WHITE/ORANGE          5        5         5\n",
       "WHITE/RED            14       14        14\n",
       "WHITE/TAN            50       50        50\n",
       "WHITE/YELLOW          2        2         2\n",
       "YELLOW               51       51        51\n",
       "\n",
       "[72 rows x 3 columns]"
      ]
     },
     "execution_count": 40,
     "metadata": {},
     "output_type": "execute_result"
    }
   ],
   "source": [
    "# Count unique values - Count\n",
    "df.groupby('Color').count()"
   ]
  },
  {
   "cell_type": "markdown",
   "id": "84419948-4996-44a2-bd52-6a5b39e315ff",
   "metadata": {},
   "source": [
    "Count of all columns accross all columns"
   ]
  },
  {
   "cell_type": "code",
   "execution_count": 41,
   "id": "3b4f2a06-4a55-43aa-8716-866e3cc44598",
   "metadata": {},
   "outputs": [
    {
     "data": {
      "text/html": [
       "<div>\n",
       "<style scoped>\n",
       "    .dataframe tbody tr th:only-of-type {\n",
       "        vertical-align: middle;\n",
       "    }\n",
       "\n",
       "    .dataframe tbody tr th {\n",
       "        vertical-align: top;\n",
       "    }\n",
       "\n",
       "    .dataframe thead th {\n",
       "        text-align: right;\n",
       "    }\n",
       "</style>\n",
       "<table border=\"1\" class=\"dataframe\">\n",
       "  <thead>\n",
       "    <tr style=\"text-align: right;\">\n",
       "      <th></th>\n",
       "      <th>Breed</th>\n",
       "      <th>Color</th>\n",
       "      <th>DogName</th>\n",
       "      <th>OwnerZip</th>\n",
       "    </tr>\n",
       "  </thead>\n",
       "  <tbody>\n",
       "    <tr>\n",
       "      <th>15003</th>\n",
       "      <td>NaN</td>\n",
       "      <td>NaN</td>\n",
       "      <td>NaN</td>\n",
       "      <td>4.0</td>\n",
       "    </tr>\n",
       "    <tr>\n",
       "      <th>15005</th>\n",
       "      <td>NaN</td>\n",
       "      <td>NaN</td>\n",
       "      <td>NaN</td>\n",
       "      <td>5.0</td>\n",
       "    </tr>\n",
       "    <tr>\n",
       "      <th>15006</th>\n",
       "      <td>NaN</td>\n",
       "      <td>NaN</td>\n",
       "      <td>NaN</td>\n",
       "      <td>1.0</td>\n",
       "    </tr>\n",
       "    <tr>\n",
       "      <th>15007</th>\n",
       "      <td>NaN</td>\n",
       "      <td>NaN</td>\n",
       "      <td>NaN</td>\n",
       "      <td>2.0</td>\n",
       "    </tr>\n",
       "    <tr>\n",
       "      <th>15014</th>\n",
       "      <td>NaN</td>\n",
       "      <td>NaN</td>\n",
       "      <td>NaN</td>\n",
       "      <td>2.0</td>\n",
       "    </tr>\n",
       "    <tr>\n",
       "      <th>...</th>\n",
       "      <td>...</td>\n",
       "      <td>...</td>\n",
       "      <td>...</td>\n",
       "      <td>...</td>\n",
       "    </tr>\n",
       "    <tr>\n",
       "      <th>ZORRO</th>\n",
       "      <td>NaN</td>\n",
       "      <td>NaN</td>\n",
       "      <td>1.0</td>\n",
       "      <td>NaN</td>\n",
       "    </tr>\n",
       "    <tr>\n",
       "      <th>ZURI</th>\n",
       "      <td>NaN</td>\n",
       "      <td>NaN</td>\n",
       "      <td>1.0</td>\n",
       "      <td>NaN</td>\n",
       "    </tr>\n",
       "    <tr>\n",
       "      <th>ZUZU</th>\n",
       "      <td>NaN</td>\n",
       "      <td>NaN</td>\n",
       "      <td>2.0</td>\n",
       "      <td>NaN</td>\n",
       "    </tr>\n",
       "    <tr>\n",
       "      <th>stella</th>\n",
       "      <td>NaN</td>\n",
       "      <td>NaN</td>\n",
       "      <td>1.0</td>\n",
       "      <td>NaN</td>\n",
       "    </tr>\n",
       "    <tr>\n",
       "      <th>suzie</th>\n",
       "      <td>NaN</td>\n",
       "      <td>NaN</td>\n",
       "      <td>1.0</td>\n",
       "      <td>NaN</td>\n",
       "    </tr>\n",
       "  </tbody>\n",
       "</table>\n",
       "<p>1783 rows × 4 columns</p>\n",
       "</div>"
      ],
      "text/plain": [
       "        Breed  Color  DogName  OwnerZip\n",
       "15003     NaN    NaN      NaN       4.0\n",
       "15005     NaN    NaN      NaN       5.0\n",
       "15006     NaN    NaN      NaN       1.0\n",
       "15007     NaN    NaN      NaN       2.0\n",
       "15014     NaN    NaN      NaN       2.0\n",
       "...       ...    ...      ...       ...\n",
       "ZORRO     NaN    NaN      1.0       NaN\n",
       "ZURI      NaN    NaN      1.0       NaN\n",
       "ZUZU      NaN    NaN      2.0       NaN\n",
       "stella    NaN    NaN      1.0       NaN\n",
       "suzie     NaN    NaN      1.0       NaN\n",
       "\n",
       "[1783 rows x 4 columns]"
      ]
     },
     "execution_count": 41,
     "metadata": {},
     "output_type": "execute_result"
    }
   ],
   "source": [
    "# Get count of all columns accross all columns\n",
    "df.apply(pd.value_counts)"
   ]
  },
  {
   "cell_type": "code",
   "execution_count": null,
   "id": "d3cc7be7-f822-4776-8d0b-6d019b3c94c7",
   "metadata": {},
   "outputs": [],
   "source": []
  }
 ],
 "metadata": {
  "kernelspec": {
   "display_name": "Python 3 (ipykernel)",
   "language": "python",
   "name": "python3"
  },
  "language_info": {
   "codemirror_mode": {
    "name": "ipython",
    "version": 3
   },
   "file_extension": ".py",
   "mimetype": "text/x-python",
   "name": "python",
   "nbconvert_exporter": "python",
   "pygments_lexer": "ipython3",
   "version": "3.11.1"
  }
 },
 "nbformat": 4,
 "nbformat_minor": 5
}
