{
 "cells": [
  {
   "cell_type": "markdown",
   "metadata": {},
   "source": [
    "# Pull data from DataFrames"
   ]
  },
  {
   "cell_type": "code",
   "execution_count": 21,
   "metadata": {},
   "outputs": [],
   "source": [
    "import pandas as pd\n",
    "import numpy as np"
   ]
  },
  {
   "cell_type": "code",
   "execution_count": 22,
   "metadata": {},
   "outputs": [
    {
     "data": {
      "text/html": [
       "<div>\n",
       "<style scoped>\n",
       "    .dataframe tbody tr th:only-of-type {\n",
       "        vertical-align: middle;\n",
       "    }\n",
       "\n",
       "    .dataframe tbody tr th {\n",
       "        vertical-align: top;\n",
       "    }\n",
       "\n",
       "    .dataframe thead th {\n",
       "        text-align: right;\n",
       "    }\n",
       "</style>\n",
       "<table border=\"1\" class=\"dataframe\">\n",
       "  <thead>\n",
       "    <tr style=\"text-align: right;\">\n",
       "      <th></th>\n",
       "      <th>Breed</th>\n",
       "      <th>Color</th>\n",
       "      <th>DogName</th>\n",
       "      <th>OwnerZip</th>\n",
       "    </tr>\n",
       "  </thead>\n",
       "  <tbody>\n",
       "    <tr>\n",
       "      <th>0</th>\n",
       "      <td>COCKAPOO</td>\n",
       "      <td>BROWN</td>\n",
       "      <td>CHARLEY</td>\n",
       "      <td>15236</td>\n",
       "    </tr>\n",
       "    <tr>\n",
       "      <th>1</th>\n",
       "      <td>GER SHEPHERD</td>\n",
       "      <td>BLACK/BROWN</td>\n",
       "      <td>TACODA</td>\n",
       "      <td>15238</td>\n",
       "    </tr>\n",
       "    <tr>\n",
       "      <th>2</th>\n",
       "      <td>BELG MALINOIS</td>\n",
       "      <td>BRINDLE</td>\n",
       "      <td>EICH</td>\n",
       "      <td>15238</td>\n",
       "    </tr>\n",
       "    <tr>\n",
       "      <th>3</th>\n",
       "      <td>MIXED</td>\n",
       "      <td>BLACK/BROWN</td>\n",
       "      <td>ARROW</td>\n",
       "      <td>15104</td>\n",
       "    </tr>\n",
       "    <tr>\n",
       "      <th>4</th>\n",
       "      <td>AM PIT BULL TERRIER</td>\n",
       "      <td>WHITE/BROWN</td>\n",
       "      <td>OAKLEY</td>\n",
       "      <td>15139</td>\n",
       "    </tr>\n",
       "    <tr>\n",
       "      <th>...</th>\n",
       "      <td>...</td>\n",
       "      <td>...</td>\n",
       "      <td>...</td>\n",
       "      <td>...</td>\n",
       "    </tr>\n",
       "    <tr>\n",
       "      <th>2665</th>\n",
       "      <td>GOLDENDOODLE</td>\n",
       "      <td>BROWN</td>\n",
       "      <td>WINSLOW</td>\n",
       "      <td>15044</td>\n",
       "    </tr>\n",
       "    <tr>\n",
       "      <th>2666</th>\n",
       "      <td>YORKSHIRE TERRIER</td>\n",
       "      <td>BLACK/BROWN</td>\n",
       "      <td>ROCKY KALAKOS</td>\n",
       "      <td>15220</td>\n",
       "    </tr>\n",
       "    <tr>\n",
       "      <th>2667</th>\n",
       "      <td>LAB MIX</td>\n",
       "      <td>WHITE/BLACK/BROWN</td>\n",
       "      <td>ELLIE</td>\n",
       "      <td>15220</td>\n",
       "    </tr>\n",
       "    <tr>\n",
       "      <th>2668</th>\n",
       "      <td>GOLDENDOODLE</td>\n",
       "      <td>WHITE</td>\n",
       "      <td>CLARENCE</td>\n",
       "      <td>15143</td>\n",
       "    </tr>\n",
       "    <tr>\n",
       "      <th>2669</th>\n",
       "      <td>SHETLAND SHEEPDOG</td>\n",
       "      <td>BLACK</td>\n",
       "      <td>GRIFFIN</td>\n",
       "      <td>15136</td>\n",
       "    </tr>\n",
       "  </tbody>\n",
       "</table>\n",
       "<p>2670 rows × 4 columns</p>\n",
       "</div>"
      ],
      "text/plain": [
       "                    Breed              Color        DogName  OwnerZip\n",
       "0                COCKAPOO              BROWN        CHARLEY     15236\n",
       "1            GER SHEPHERD        BLACK/BROWN         TACODA     15238\n",
       "2           BELG MALINOIS            BRINDLE           EICH     15238\n",
       "3                   MIXED        BLACK/BROWN          ARROW     15104\n",
       "4     AM PIT BULL TERRIER        WHITE/BROWN         OAKLEY     15139\n",
       "...                   ...                ...            ...       ...\n",
       "2665         GOLDENDOODLE              BROWN        WINSLOW     15044\n",
       "2666    YORKSHIRE TERRIER        BLACK/BROWN  ROCKY KALAKOS     15220\n",
       "2667              LAB MIX  WHITE/BLACK/BROWN          ELLIE     15220\n",
       "2668         GOLDENDOODLE              WHITE       CLARENCE     15143\n",
       "2669    SHETLAND SHEEPDOG              BLACK        GRIFFIN     15136\n",
       "\n",
       "[2670 rows x 4 columns]"
      ]
     },
     "execution_count": 22,
     "metadata": {},
     "output_type": "execute_result"
    }
   ],
   "source": [
    "# import csv file\n",
    "df = pd.read_csv('data/dog_data.csv')\n",
    "df"
   ]
  },
  {
   "cell_type": "markdown",
   "metadata": {},
   "source": [
    "Grab first five rows"
   ]
  },
  {
   "cell_type": "code",
   "execution_count": 23,
   "metadata": {},
   "outputs": [
    {
     "data": {
      "text/html": [
       "<div>\n",
       "<style scoped>\n",
       "    .dataframe tbody tr th:only-of-type {\n",
       "        vertical-align: middle;\n",
       "    }\n",
       "\n",
       "    .dataframe tbody tr th {\n",
       "        vertical-align: top;\n",
       "    }\n",
       "\n",
       "    .dataframe thead th {\n",
       "        text-align: right;\n",
       "    }\n",
       "</style>\n",
       "<table border=\"1\" class=\"dataframe\">\n",
       "  <thead>\n",
       "    <tr style=\"text-align: right;\">\n",
       "      <th></th>\n",
       "      <th>Breed</th>\n",
       "      <th>Color</th>\n",
       "      <th>DogName</th>\n",
       "      <th>OwnerZip</th>\n",
       "    </tr>\n",
       "  </thead>\n",
       "  <tbody>\n",
       "    <tr>\n",
       "      <th>0</th>\n",
       "      <td>COCKAPOO</td>\n",
       "      <td>BROWN</td>\n",
       "      <td>CHARLEY</td>\n",
       "      <td>15236</td>\n",
       "    </tr>\n",
       "    <tr>\n",
       "      <th>1</th>\n",
       "      <td>GER SHEPHERD</td>\n",
       "      <td>BLACK/BROWN</td>\n",
       "      <td>TACODA</td>\n",
       "      <td>15238</td>\n",
       "    </tr>\n",
       "    <tr>\n",
       "      <th>2</th>\n",
       "      <td>BELG MALINOIS</td>\n",
       "      <td>BRINDLE</td>\n",
       "      <td>EICH</td>\n",
       "      <td>15238</td>\n",
       "    </tr>\n",
       "    <tr>\n",
       "      <th>3</th>\n",
       "      <td>MIXED</td>\n",
       "      <td>BLACK/BROWN</td>\n",
       "      <td>ARROW</td>\n",
       "      <td>15104</td>\n",
       "    </tr>\n",
       "    <tr>\n",
       "      <th>4</th>\n",
       "      <td>AM PIT BULL TERRIER</td>\n",
       "      <td>WHITE/BROWN</td>\n",
       "      <td>OAKLEY</td>\n",
       "      <td>15139</td>\n",
       "    </tr>\n",
       "  </tbody>\n",
       "</table>\n",
       "</div>"
      ],
      "text/plain": [
       "                 Breed        Color  DogName  OwnerZip\n",
       "0             COCKAPOO        BROWN  CHARLEY     15236\n",
       "1         GER SHEPHERD  BLACK/BROWN   TACODA     15238\n",
       "2        BELG MALINOIS      BRINDLE     EICH     15238\n",
       "3                MIXED  BLACK/BROWN    ARROW     15104\n",
       "4  AM PIT BULL TERRIER  WHITE/BROWN   OAKLEY     15139"
      ]
     },
     "execution_count": 23,
     "metadata": {},
     "output_type": "execute_result"
    }
   ],
   "source": [
    "# Grab first 5 rows\n",
    "df.head()\n"
   ]
  },
  {
   "cell_type": "markdown",
   "metadata": {},
   "source": [
    "Grab a number of first rows"
   ]
  },
  {
   "cell_type": "code",
   "execution_count": 24,
   "metadata": {},
   "outputs": [
    {
     "data": {
      "text/html": [
       "<div>\n",
       "<style scoped>\n",
       "    .dataframe tbody tr th:only-of-type {\n",
       "        vertical-align: middle;\n",
       "    }\n",
       "\n",
       "    .dataframe tbody tr th {\n",
       "        vertical-align: top;\n",
       "    }\n",
       "\n",
       "    .dataframe thead th {\n",
       "        text-align: right;\n",
       "    }\n",
       "</style>\n",
       "<table border=\"1\" class=\"dataframe\">\n",
       "  <thead>\n",
       "    <tr style=\"text-align: right;\">\n",
       "      <th></th>\n",
       "      <th>Breed</th>\n",
       "      <th>Color</th>\n",
       "      <th>DogName</th>\n",
       "      <th>OwnerZip</th>\n",
       "    </tr>\n",
       "  </thead>\n",
       "  <tbody>\n",
       "    <tr>\n",
       "      <th>0</th>\n",
       "      <td>COCKAPOO</td>\n",
       "      <td>BROWN</td>\n",
       "      <td>CHARLEY</td>\n",
       "      <td>15236</td>\n",
       "    </tr>\n",
       "    <tr>\n",
       "      <th>1</th>\n",
       "      <td>GER SHEPHERD</td>\n",
       "      <td>BLACK/BROWN</td>\n",
       "      <td>TACODA</td>\n",
       "      <td>15238</td>\n",
       "    </tr>\n",
       "    <tr>\n",
       "      <th>2</th>\n",
       "      <td>BELG MALINOIS</td>\n",
       "      <td>BRINDLE</td>\n",
       "      <td>EICH</td>\n",
       "      <td>15238</td>\n",
       "    </tr>\n",
       "    <tr>\n",
       "      <th>3</th>\n",
       "      <td>MIXED</td>\n",
       "      <td>BLACK/BROWN</td>\n",
       "      <td>ARROW</td>\n",
       "      <td>15104</td>\n",
       "    </tr>\n",
       "    <tr>\n",
       "      <th>4</th>\n",
       "      <td>AM PIT BULL TERRIER</td>\n",
       "      <td>WHITE/BROWN</td>\n",
       "      <td>OAKLEY</td>\n",
       "      <td>15139</td>\n",
       "    </tr>\n",
       "    <tr>\n",
       "      <th>5</th>\n",
       "      <td>SCOTTISH TERRIER</td>\n",
       "      <td>BLACK</td>\n",
       "      <td>BAILEY</td>\n",
       "      <td>15129</td>\n",
       "    </tr>\n",
       "    <tr>\n",
       "      <th>6</th>\n",
       "      <td>YORKSHIRE TERRIER</td>\n",
       "      <td>BLACK/TAN</td>\n",
       "      <td>MIMI PEARL FOSTER</td>\n",
       "      <td>15090</td>\n",
       "    </tr>\n",
       "    <tr>\n",
       "      <th>7</th>\n",
       "      <td>DACHSHUND MIX</td>\n",
       "      <td>WHITE/BROWN</td>\n",
       "      <td>LEROI</td>\n",
       "      <td>15101</td>\n",
       "    </tr>\n",
       "    <tr>\n",
       "      <th>8</th>\n",
       "      <td>SHETLAND SHEEPDOG</td>\n",
       "      <td>WHITE/BROWN</td>\n",
       "      <td>ZOE VITSAS</td>\n",
       "      <td>15238</td>\n",
       "    </tr>\n",
       "  </tbody>\n",
       "</table>\n",
       "</div>"
      ],
      "text/plain": [
       "                 Breed        Color            DogName  OwnerZip\n",
       "0             COCKAPOO        BROWN            CHARLEY     15236\n",
       "1         GER SHEPHERD  BLACK/BROWN             TACODA     15238\n",
       "2        BELG MALINOIS      BRINDLE               EICH     15238\n",
       "3                MIXED  BLACK/BROWN              ARROW     15104\n",
       "4  AM PIT BULL TERRIER  WHITE/BROWN             OAKLEY     15139\n",
       "5     SCOTTISH TERRIER        BLACK             BAILEY     15129\n",
       "6    YORKSHIRE TERRIER    BLACK/TAN  MIMI PEARL FOSTER     15090\n",
       "7        DACHSHUND MIX  WHITE/BROWN              LEROI     15101\n",
       "8    SHETLAND SHEEPDOG  WHITE/BROWN         ZOE VITSAS     15238"
      ]
     },
     "execution_count": 24,
     "metadata": {},
     "output_type": "execute_result"
    }
   ],
   "source": [
    "# Grab a number of first rows\n",
    "df.head(9)"
   ]
  },
  {
   "cell_type": "markdown",
   "metadata": {},
   "source": [
    "Grab last 5 rows"
   ]
  },
  {
   "cell_type": "code",
   "execution_count": 25,
   "metadata": {},
   "outputs": [
    {
     "data": {
      "text/html": [
       "<div>\n",
       "<style scoped>\n",
       "    .dataframe tbody tr th:only-of-type {\n",
       "        vertical-align: middle;\n",
       "    }\n",
       "\n",
       "    .dataframe tbody tr th {\n",
       "        vertical-align: top;\n",
       "    }\n",
       "\n",
       "    .dataframe thead th {\n",
       "        text-align: right;\n",
       "    }\n",
       "</style>\n",
       "<table border=\"1\" class=\"dataframe\">\n",
       "  <thead>\n",
       "    <tr style=\"text-align: right;\">\n",
       "      <th></th>\n",
       "      <th>Breed</th>\n",
       "      <th>Color</th>\n",
       "      <th>DogName</th>\n",
       "      <th>OwnerZip</th>\n",
       "    </tr>\n",
       "  </thead>\n",
       "  <tbody>\n",
       "    <tr>\n",
       "      <th>2665</th>\n",
       "      <td>GOLDENDOODLE</td>\n",
       "      <td>BROWN</td>\n",
       "      <td>WINSLOW</td>\n",
       "      <td>15044</td>\n",
       "    </tr>\n",
       "    <tr>\n",
       "      <th>2666</th>\n",
       "      <td>YORKSHIRE TERRIER</td>\n",
       "      <td>BLACK/BROWN</td>\n",
       "      <td>ROCKY KALAKOS</td>\n",
       "      <td>15220</td>\n",
       "    </tr>\n",
       "    <tr>\n",
       "      <th>2667</th>\n",
       "      <td>LAB MIX</td>\n",
       "      <td>WHITE/BLACK/BROWN</td>\n",
       "      <td>ELLIE</td>\n",
       "      <td>15220</td>\n",
       "    </tr>\n",
       "    <tr>\n",
       "      <th>2668</th>\n",
       "      <td>GOLDENDOODLE</td>\n",
       "      <td>WHITE</td>\n",
       "      <td>CLARENCE</td>\n",
       "      <td>15143</td>\n",
       "    </tr>\n",
       "    <tr>\n",
       "      <th>2669</th>\n",
       "      <td>SHETLAND SHEEPDOG</td>\n",
       "      <td>BLACK</td>\n",
       "      <td>GRIFFIN</td>\n",
       "      <td>15136</td>\n",
       "    </tr>\n",
       "  </tbody>\n",
       "</table>\n",
       "</div>"
      ],
      "text/plain": [
       "                  Breed              Color        DogName  OwnerZip\n",
       "2665       GOLDENDOODLE              BROWN        WINSLOW     15044\n",
       "2666  YORKSHIRE TERRIER        BLACK/BROWN  ROCKY KALAKOS     15220\n",
       "2667            LAB MIX  WHITE/BLACK/BROWN          ELLIE     15220\n",
       "2668       GOLDENDOODLE              WHITE       CLARENCE     15143\n",
       "2669  SHETLAND SHEEPDOG              BLACK        GRIFFIN     15136"
      ]
     },
     "execution_count": 25,
     "metadata": {},
     "output_type": "execute_result"
    }
   ],
   "source": [
    "# Grab last 5 rows\n",
    "df.tail()"
   ]
  },
  {
   "cell_type": "markdown",
   "metadata": {},
   "source": [
    "Grab a number of last rows"
   ]
  },
  {
   "cell_type": "code",
   "execution_count": 26,
   "metadata": {},
   "outputs": [
    {
     "data": {
      "text/html": [
       "<div>\n",
       "<style scoped>\n",
       "    .dataframe tbody tr th:only-of-type {\n",
       "        vertical-align: middle;\n",
       "    }\n",
       "\n",
       "    .dataframe tbody tr th {\n",
       "        vertical-align: top;\n",
       "    }\n",
       "\n",
       "    .dataframe thead th {\n",
       "        text-align: right;\n",
       "    }\n",
       "</style>\n",
       "<table border=\"1\" class=\"dataframe\">\n",
       "  <thead>\n",
       "    <tr style=\"text-align: right;\">\n",
       "      <th></th>\n",
       "      <th>Breed</th>\n",
       "      <th>Color</th>\n",
       "      <th>DogName</th>\n",
       "      <th>OwnerZip</th>\n",
       "    </tr>\n",
       "  </thead>\n",
       "  <tbody>\n",
       "    <tr>\n",
       "      <th>2662</th>\n",
       "      <td>WEIMARANER</td>\n",
       "      <td>GREY</td>\n",
       "      <td>BELLA</td>\n",
       "      <td>15102</td>\n",
       "    </tr>\n",
       "    <tr>\n",
       "      <th>2663</th>\n",
       "      <td>LABRADOR RETRIEVER</td>\n",
       "      <td>BROWN</td>\n",
       "      <td>NINO</td>\n",
       "      <td>15102</td>\n",
       "    </tr>\n",
       "    <tr>\n",
       "      <th>2664</th>\n",
       "      <td>COCKER SPANIEL MIX</td>\n",
       "      <td>WHITE/BLACK</td>\n",
       "      <td>JACK</td>\n",
       "      <td>15102</td>\n",
       "    </tr>\n",
       "    <tr>\n",
       "      <th>2665</th>\n",
       "      <td>GOLDENDOODLE</td>\n",
       "      <td>BROWN</td>\n",
       "      <td>WINSLOW</td>\n",
       "      <td>15044</td>\n",
       "    </tr>\n",
       "    <tr>\n",
       "      <th>2666</th>\n",
       "      <td>YORKSHIRE TERRIER</td>\n",
       "      <td>BLACK/BROWN</td>\n",
       "      <td>ROCKY KALAKOS</td>\n",
       "      <td>15220</td>\n",
       "    </tr>\n",
       "    <tr>\n",
       "      <th>2667</th>\n",
       "      <td>LAB MIX</td>\n",
       "      <td>WHITE/BLACK/BROWN</td>\n",
       "      <td>ELLIE</td>\n",
       "      <td>15220</td>\n",
       "    </tr>\n",
       "    <tr>\n",
       "      <th>2668</th>\n",
       "      <td>GOLDENDOODLE</td>\n",
       "      <td>WHITE</td>\n",
       "      <td>CLARENCE</td>\n",
       "      <td>15143</td>\n",
       "    </tr>\n",
       "    <tr>\n",
       "      <th>2669</th>\n",
       "      <td>SHETLAND SHEEPDOG</td>\n",
       "      <td>BLACK</td>\n",
       "      <td>GRIFFIN</td>\n",
       "      <td>15136</td>\n",
       "    </tr>\n",
       "  </tbody>\n",
       "</table>\n",
       "</div>"
      ],
      "text/plain": [
       "                   Breed              Color        DogName  OwnerZip\n",
       "2662          WEIMARANER               GREY          BELLA     15102\n",
       "2663  LABRADOR RETRIEVER              BROWN           NINO     15102\n",
       "2664  COCKER SPANIEL MIX        WHITE/BLACK           JACK     15102\n",
       "2665        GOLDENDOODLE              BROWN        WINSLOW     15044\n",
       "2666   YORKSHIRE TERRIER        BLACK/BROWN  ROCKY KALAKOS     15220\n",
       "2667             LAB MIX  WHITE/BLACK/BROWN          ELLIE     15220\n",
       "2668        GOLDENDOODLE              WHITE       CLARENCE     15143\n",
       "2669   SHETLAND SHEEPDOG              BLACK        GRIFFIN     15136"
      ]
     },
     "execution_count": 26,
     "metadata": {},
     "output_type": "execute_result"
    }
   ],
   "source": [
    "# Grab a certain number of last rows\n",
    "df.tail(8)"
   ]
  },
  {
   "cell_type": "markdown",
   "metadata": {},
   "source": [
    "Get information about the DataFrame"
   ]
  },
  {
   "cell_type": "code",
   "execution_count": 27,
   "metadata": {},
   "outputs": [
    {
     "name": "stdout",
     "output_type": "stream",
     "text": [
      "<class 'pandas.core.frame.DataFrame'>\n",
      "RangeIndex: 2670 entries, 0 to 2669\n",
      "Data columns (total 4 columns):\n",
      " #   Column    Non-Null Count  Dtype \n",
      "---  ------    --------------  ----- \n",
      " 0   Breed     2670 non-null   object\n",
      " 1   Color     2665 non-null   object\n",
      " 2   DogName   2669 non-null   object\n",
      " 3   OwnerZip  2670 non-null   int64 \n",
      "dtypes: int64(1), object(3)\n",
      "memory usage: 83.6+ KB\n"
     ]
    }
   ],
   "source": [
    "# Get info about the DataFrame\n",
    "df.info()"
   ]
  },
  {
   "cell_type": "markdown",
   "metadata": {},
   "source": [
    "Get the shape of rows and columns"
   ]
  },
  {
   "cell_type": "code",
   "execution_count": 28,
   "metadata": {},
   "outputs": [
    {
     "data": {
      "text/plain": [
       "(2670, 4)"
      ]
     },
     "execution_count": 28,
     "metadata": {},
     "output_type": "execute_result"
    }
   ],
   "source": [
    "# Get the shape of rows and columns\n",
    "df.shape"
   ]
  },
  {
   "cell_type": "markdown",
   "metadata": {},
   "source": [
    "Get the number of dimensions\n",
    "**ndim**: short for number of dimensions"
   ]
  },
  {
   "cell_type": "code",
   "execution_count": 29,
   "metadata": {},
   "outputs": [
    {
     "data": {
      "text/plain": [
       "2"
      ]
     },
     "execution_count": 29,
     "metadata": {},
     "output_type": "execute_result"
    }
   ],
   "source": [
    "# Get the number of dimensions\n",
    "df.ndim"
   ]
  },
  {
   "cell_type": "markdown",
   "metadata": {},
   "source": [
    "Column dataTypes"
   ]
  },
  {
   "cell_type": "code",
   "execution_count": 30,
   "metadata": {},
   "outputs": [
    {
     "data": {
      "text/plain": [
       "Breed       object\n",
       "Color       object\n",
       "DogName     object\n",
       "OwnerZip     int64\n",
       "dtype: object"
      ]
     },
     "execution_count": 30,
     "metadata": {},
     "output_type": "execute_result"
    }
   ],
   "source": [
    "# Get the columns dataTypes\n",
    "df.dtypes"
   ]
  },
  {
   "cell_type": "markdown",
   "metadata": {},
   "source": [
    "Statistics about the data"
   ]
  },
  {
   "cell_type": "code",
   "execution_count": 31,
   "metadata": {},
   "outputs": [
    {
     "data": {
      "text/html": [
       "<div>\n",
       "<style scoped>\n",
       "    .dataframe tbody tr th:only-of-type {\n",
       "        vertical-align: middle;\n",
       "    }\n",
       "\n",
       "    .dataframe tbody tr th {\n",
       "        vertical-align: top;\n",
       "    }\n",
       "\n",
       "    .dataframe thead th {\n",
       "        text-align: right;\n",
       "    }\n",
       "</style>\n",
       "<table border=\"1\" class=\"dataframe\">\n",
       "  <thead>\n",
       "    <tr style=\"text-align: right;\">\n",
       "      <th></th>\n",
       "      <th>OwnerZip</th>\n",
       "    </tr>\n",
       "  </thead>\n",
       "  <tbody>\n",
       "    <tr>\n",
       "      <th>count</th>\n",
       "      <td>2670.000000</td>\n",
       "    </tr>\n",
       "    <tr>\n",
       "      <th>mean</th>\n",
       "      <td>15268.109738</td>\n",
       "    </tr>\n",
       "    <tr>\n",
       "      <th>std</th>\n",
       "      <td>2747.560641</td>\n",
       "    </tr>\n",
       "    <tr>\n",
       "      <th>min</th>\n",
       "      <td>15003.000000</td>\n",
       "    </tr>\n",
       "    <tr>\n",
       "      <th>25%</th>\n",
       "      <td>15102.000000</td>\n",
       "    </tr>\n",
       "    <tr>\n",
       "      <th>50%</th>\n",
       "      <td>15136.000000</td>\n",
       "    </tr>\n",
       "    <tr>\n",
       "      <th>75%</th>\n",
       "      <td>15227.000000</td>\n",
       "    </tr>\n",
       "    <tr>\n",
       "      <th>max</th>\n",
       "      <td>97206.000000</td>\n",
       "    </tr>\n",
       "  </tbody>\n",
       "</table>\n",
       "</div>"
      ],
      "text/plain": [
       "           OwnerZip\n",
       "count   2670.000000\n",
       "mean   15268.109738\n",
       "std     2747.560641\n",
       "min    15003.000000\n",
       "25%    15102.000000\n",
       "50%    15136.000000\n",
       "75%    15227.000000\n",
       "max    97206.000000"
      ]
     },
     "execution_count": 31,
     "metadata": {},
     "output_type": "execute_result"
    }
   ],
   "source": [
    "# Get some statistics about the data\n",
    "df.describe()"
   ]
  },
  {
   "cell_type": "markdown",
   "metadata": {},
   "source": [
    "Describe a specific column (Breed)"
   ]
  },
  {
   "cell_type": "code",
   "execution_count": 32,
   "metadata": {},
   "outputs": [
    {
     "data": {
      "text/plain": [
       "count      2670\n",
       "unique      185\n",
       "top       MIXED\n",
       "freq        235\n",
       "Name: Breed, dtype: object"
      ]
     },
     "execution_count": 32,
     "metadata": {},
     "output_type": "execute_result"
    }
   ],
   "source": [
    "# Describe a specific column (Breed)\n",
    "df[\"Breed\"].describe()"
   ]
  },
  {
   "cell_type": "markdown",
   "metadata": {},
   "source": [
    "Describe a specific column (Color)"
   ]
  },
  {
   "cell_type": "code",
   "execution_count": 33,
   "metadata": {},
   "outputs": [
    {
     "data": {
      "text/plain": [
       "count      2665\n",
       "unique       72\n",
       "top       BLACK\n",
       "freq        371\n",
       "Name: Color, dtype: object"
      ]
     },
     "execution_count": 33,
     "metadata": {},
     "output_type": "execute_result"
    }
   ],
   "source": [
    "# Describe a specific column (Color)\n",
    "df[\"Color\"].describe()"
   ]
  },
  {
   "cell_type": "markdown",
   "metadata": {},
   "source": [
    "Describe a specific column"
   ]
  },
  {
   "cell_type": "code",
   "execution_count": 34,
   "metadata": {},
   "outputs": [
    {
     "data": {
      "text/plain": [
       "count     2669\n",
       "unique    1428\n",
       "top       LUCY\n",
       "freq        35\n",
       "Name: DogName, dtype: object"
      ]
     },
     "execution_count": 34,
     "metadata": {},
     "output_type": "execute_result"
    }
   ],
   "source": [
    "# Describe a specific column\n",
    "df[\"DogName\"].describe()"
   ]
  },
  {
   "cell_type": "markdown",
   "metadata": {},
   "source": [
    "Select specific column using Bracket notation\n",
    "(returns a Pandas Series)"
   ]
  },
  {
   "cell_type": "code",
   "execution_count": 35,
   "metadata": {},
   "outputs": [
    {
     "data": {
      "text/plain": [
       "(0             CHARLEY\n",
       " 1              TACODA\n",
       " 2                EICH\n",
       " 3               ARROW\n",
       " 4              OAKLEY\n",
       "             ...      \n",
       " 2665          WINSLOW\n",
       " 2666    ROCKY KALAKOS\n",
       " 2667            ELLIE\n",
       " 2668         CLARENCE\n",
       " 2669          GRIFFIN\n",
       " Name: DogName, Length: 2670, dtype: object,\n",
       " 0             CHARLEY\n",
       " 1              TACODA\n",
       " 2                EICH\n",
       " 3               ARROW\n",
       " 4              OAKLEY\n",
       "             ...      \n",
       " 2665          WINSLOW\n",
       " 2666    ROCKY KALAKOS\n",
       " 2667            ELLIE\n",
       " 2668         CLARENCE\n",
       " 2669          GRIFFIN\n",
       " Name: DogName, Length: 2670, dtype: object,\n",
       " pandas.core.series.Series)"
      ]
     },
     "execution_count": 35,
     "metadata": {},
     "output_type": "execute_result"
    }
   ],
   "source": [
    "# Select specific column using Brackets\n",
    "df[\"DogName\"], df['DogName'], type(df[\"DogName\"]), "
   ]
  },
  {
   "cell_type": "markdown",
   "metadata": {},
   "source": [
    "Select specific column using the Dot notation\n",
    "(returns a Pandas Series)"
   ]
  },
  {
   "cell_type": "code",
   "execution_count": 36,
   "metadata": {},
   "outputs": [
    {
     "data": {
      "text/plain": [
       "0             CHARLEY\n",
       "1              TACODA\n",
       "2                EICH\n",
       "3               ARROW\n",
       "4              OAKLEY\n",
       "            ...      \n",
       "2665          WINSLOW\n",
       "2666    ROCKY KALAKOS\n",
       "2667            ELLIE\n",
       "2668         CLARENCE\n",
       "2669          GRIFFIN\n",
       "Name: DogName, Length: 2670, dtype: object"
      ]
     },
     "execution_count": 36,
     "metadata": {},
     "output_type": "execute_result"
    }
   ],
   "source": [
    "# Select specific column using the Dot notation\n",
    "df.DogName"
   ]
  },
  {
   "cell_type": "markdown",
   "metadata": {},
   "source": [
    "Select specific column using Location with **iloc** (slice of [rows, columns]\n",
    "(returns a Pandas Series)"
   ]
  },
  {
   "cell_type": "code",
   "execution_count": 37,
   "metadata": {},
   "outputs": [
    {
     "data": {
      "text/plain": [
       "0                  COCKAPOO\n",
       "1              GER SHEPHERD\n",
       "2             BELG MALINOIS\n",
       "3                     MIXED\n",
       "4       AM PIT BULL TERRIER\n",
       "               ...         \n",
       "2665           GOLDENDOODLE\n",
       "2666      YORKSHIRE TERRIER\n",
       "2667                LAB MIX\n",
       "2668           GOLDENDOODLE\n",
       "2669      SHETLAND SHEEPDOG\n",
       "Name: Breed, Length: 2670, dtype: object"
      ]
     },
     "execution_count": 37,
     "metadata": {},
     "output_type": "execute_result"
    }
   ],
   "source": [
    "# Select specific column using Location (iloc) \n",
    "df.iloc[:, 0]"
   ]
  },
  {
   "cell_type": "markdown",
   "metadata": {},
   "source": []
  }
 ],
 "metadata": {
  "kernelspec": {
   "display_name": "Python 3 (ipykernel)",
   "language": "python",
   "name": "python3"
  },
  "language_info": {
   "codemirror_mode": {
    "name": "ipython",
    "version": 3
   },
   "file_extension": ".py",
   "mimetype": "text/x-python",
   "name": "python",
   "nbconvert_exporter": "python",
   "pygments_lexer": "ipython3",
   "version": "3.11.1"
  },
  "vscode": {
   "interpreter": {
    "hash": "48f9ca8579355c007ee19d3e31df7d4e1e4b6bf23dc3ac7d50d6cf39d5cab7cf"
   }
  }
 },
 "nbformat": 4,
 "nbformat_minor": 4
}
