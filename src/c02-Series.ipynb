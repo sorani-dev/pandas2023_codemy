{
 "cells": [
  {
   "cell_type": "markdown",
   "id": "633a9fe2",
   "metadata": {},
   "source": [
    "# Pandas Series\n",
    "A Series is like a Table Column\n",
    "It's a one-dimensional array holding any type of data"
   ]
  },
  {
   "cell_type": "code",
   "execution_count": 38,
   "id": "88301ada-3511-482b-83d0-d54f34bbf29b",
   "metadata": {},
   "outputs": [],
   "source": [
    "import pandas as pd\n",
    "import numpy as np"
   ]
  },
  {
   "cell_type": "code",
   "execution_count": 39,
   "id": "d863f6c0",
   "metadata": {},
   "outputs": [
    {
     "data": {
      "text/plain": [
       "0     5\n",
       "1     9\n",
       "2    12\n",
       "3    27\n",
       "dtype: int64"
      ]
     },
     "execution_count": 39,
     "metadata": {},
     "output_type": "execute_result"
    }
   ],
   "source": [
    "my_series = [5, 9, 12, 27]\n",
    "my_var = pd.Series(my_series)\n",
    "my_var"
   ]
  },
  {
   "cell_type": "code",
   "execution_count": 40,
   "id": "682f88ee",
   "metadata": {},
   "outputs": [
    {
     "data": {
      "text/plain": [
       "9"
      ]
     },
     "execution_count": 40,
     "metadata": {},
     "output_type": "execute_result"
    }
   ],
   "source": [
    "# Print specific value\n",
    "my_var[1]"
   ]
  },
  {
   "cell_type": "markdown",
   "id": "50ea9f47",
   "metadata": {},
   "source": [
    "Labels using the Index argument"
   ]
  },
  {
   "cell_type": "code",
   "execution_count": 41,
   "id": "91dc1da4",
   "metadata": {},
   "outputs": [
    {
     "data": {
      "text/plain": [
       "A     5\n",
       "B     9\n",
       "C    12\n",
       "D    27\n",
       "dtype: int64"
      ]
     },
     "execution_count": 41,
     "metadata": {},
     "output_type": "execute_result"
    }
   ],
   "source": [
    "my_index = [\"A\", \"B\", \"C\", \"D\"]\n",
    "my_var2 =pd.Series(my_series,my_index )\n",
    "my_var2"
   ]
  },
  {
   "cell_type": "code",
   "execution_count": 42,
   "id": "44a0e133",
   "metadata": {},
   "outputs": [
    {
     "data": {
      "text/plain": [
       "A     5\n",
       "B     9\n",
       "C    12\n",
       "D    27\n",
       "dtype: int64"
      ]
     },
     "execution_count": 42,
     "metadata": {},
     "output_type": "execute_result"
    }
   ],
   "source": [
    "my_var2 =pd.Series(data=my_series,index=my_index )\n",
    "my_var2"
   ]
  },
  {
   "cell_type": "code",
   "execution_count": 43,
   "id": "78353f3a",
   "metadata": {},
   "outputs": [
    {
     "data": {
      "text/plain": [
       "A     5\n",
       "B     9\n",
       "C    12\n",
       "Z    27\n",
       "dtype: int64"
      ]
     },
     "execution_count": 43,
     "metadata": {},
     "output_type": "execute_result"
    }
   ],
   "source": [
    "my_index = [\"A\", \"B\", \"C\", \"Z\"]\n",
    "my_var2 =pd.Series(my_series,my_index )\n",
    "my_var2"
   ]
  },
  {
   "attachments": {},
   "cell_type": "markdown",
   "id": "7bfe48b7",
   "metadata": {},
   "source": [
    "Get a value"
   ]
  },
  {
   "cell_type": "code",
   "execution_count": 44,
   "id": "67c098d3",
   "metadata": {},
   "outputs": [
    {
     "data": {
      "text/plain": [
       "(9, 9)"
      ]
     },
     "execution_count": 44,
     "metadata": {},
     "output_type": "execute_result"
    }
   ],
   "source": [
    "my_var2[\"B\"], my_var2[1]"
   ]
  },
  {
   "attachments": {},
   "cell_type": "markdown",
   "id": "bae2f229",
   "metadata": {},
   "source": [
    "Key-Value Dictionary"
   ]
  },
  {
   "cell_type": "code",
   "execution_count": 45,
   "id": "71e29130",
   "metadata": {},
   "outputs": [
    {
     "data": {
      "text/plain": [
       "Tesla       12\n",
       "Zoe         14\n",
       "Mercedes    42\n",
       "BMW          3\n",
       "dtype: int64"
      ]
     },
     "execution_count": 45,
     "metadata": {},
     "output_type": "execute_result"
    }
   ],
   "source": [
    "cars = {\"Tesla\": 12, \"Zoe\": 14, \"Mercedes\": 42, \"BMW\": 3}\n",
    "my_var3 = pd.Series(cars)\n",
    "my_var3"
   ]
  },
  {
   "cell_type": "code",
   "execution_count": 46,
   "id": "5d372016",
   "metadata": {},
   "outputs": [
    {
     "data": {
      "text/plain": [
       "12"
      ]
     },
     "execution_count": 46,
     "metadata": {},
     "output_type": "execute_result"
    }
   ],
   "source": [
    "my_var3[\"Tesla\"]"
   ]
  }
 ],
 "metadata": {
  "kernelspec": {
   "display_name": "Python 3 (ipykernel)",
   "language": "python",
   "name": "python3"
  },
  "language_info": {
   "codemirror_mode": {
    "name": "ipython",
    "version": 3
   },
   "file_extension": ".py",
   "mimetype": "text/x-python",
   "name": "python",
   "nbconvert_exporter": "python",
   "pygments_lexer": "ipython3",
   "version": "3.11.1"
  },
  "vscode": {
   "interpreter": {
    "hash": "37b8602f88b4742862a175b7d0f465bc624aab2201f418e1b988a1896d146ae3"
   }
  }
 },
 "nbformat": 4,
 "nbformat_minor": 5
}
