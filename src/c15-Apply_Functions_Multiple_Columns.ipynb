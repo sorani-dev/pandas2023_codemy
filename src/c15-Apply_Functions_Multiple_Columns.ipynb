{
 "cells": [
  {
   "cell_type": "markdown",
   "id": "0a786dd8-1b2e-4165-8dee-3101a4496503",
   "metadata": {},
   "source": [
    "# Apply Functions to DataFrame"
   ]
  },
  {
   "cell_type": "code",
   "execution_count": 17,
   "id": "fe2f7e87-5c13-411b-827a-8e86fdcb019e",
   "metadata": {},
   "outputs": [
    {
     "data": {
      "text/html": [
       "<div>\n",
       "<style scoped>\n",
       "    .dataframe tbody tr th:only-of-type {\n",
       "        vertical-align: middle;\n",
       "    }\n",
       "\n",
       "    .dataframe tbody tr th {\n",
       "        vertical-align: top;\n",
       "    }\n",
       "\n",
       "    .dataframe thead th {\n",
       "        text-align: right;\n",
       "    }\n",
       "</style>\n",
       "<table border=\"1\" class=\"dataframe\">\n",
       "  <thead>\n",
       "    <tr style=\"text-align: right;\">\n",
       "      <th></th>\n",
       "      <th>Corporation</th>\n",
       "      <th>Employees</th>\n",
       "      <th>Salary</th>\n",
       "    </tr>\n",
       "  </thead>\n",
       "  <tbody>\n",
       "    <tr>\n",
       "      <th>0</th>\n",
       "      <td>Apple</td>\n",
       "      <td>John</td>\n",
       "      <td>200</td>\n",
       "    </tr>\n",
       "    <tr>\n",
       "      <th>1</th>\n",
       "      <td>Google</td>\n",
       "      <td>April</td>\n",
       "      <td>220</td>\n",
       "    </tr>\n",
       "    <tr>\n",
       "      <th>2</th>\n",
       "      <td>Meta</td>\n",
       "      <td>Wes</td>\n",
       "      <td>190</td>\n",
       "    </tr>\n",
       "    <tr>\n",
       "      <th>3</th>\n",
       "      <td>Apple</td>\n",
       "      <td>Beth</td>\n",
       "      <td>130</td>\n",
       "    </tr>\n",
       "    <tr>\n",
       "      <th>4</th>\n",
       "      <td>Google</td>\n",
       "      <td>Justin</td>\n",
       "      <td>120</td>\n",
       "    </tr>\n",
       "    <tr>\n",
       "      <th>5</th>\n",
       "      <td>Meta</td>\n",
       "      <td>Steph</td>\n",
       "      <td>150</td>\n",
       "    </tr>\n",
       "  </tbody>\n",
       "</table>\n",
       "</div>"
      ],
      "text/plain": [
       "  Corporation Employees  Salary\n",
       "0       Apple      John     200\n",
       "1      Google     April     220\n",
       "2        Meta       Wes     190\n",
       "3       Apple      Beth     130\n",
       "4      Google    Justin     120\n",
       "5        Meta     Steph     150"
      ]
     },
     "execution_count": 17,
     "metadata": {},
     "output_type": "execute_result"
    }
   ],
   "source": [
    "import pandas as pd\n",
    "import numpy as np\n",
    "# Create Data\n",
    "stuff = {\n",
    "    'Corporation':['Apple', 'Google', 'Meta', 'Apple', 'Google','Meta'],\n",
    "    'Employees':['John', 'April', 'Wes', 'Beth', 'Justin', 'Steph'],\n",
    "    'Salary':[200, 220, 190, 130, 120, 150]}\n",
    "# Create Dataframe\n",
    "df = pd.DataFrame(stuff)\n",
    "df"
   ]
  },
  {
   "cell_type": "markdown",
   "id": "8a8da675-383d-469a-8f5a-dc8b7957e3a5",
   "metadata": {},
   "source": [
    "## Create Function"
   ]
  },
  {
   "cell_type": "code",
   "execution_count": 18,
   "id": "c06d129e-0ba5-4c11-8fdd-58115ea48373",
   "metadata": {},
   "outputs": [],
   "source": [
    "# Create Function\n",
    "def times10(x):\n",
    "    return x * 10"
   ]
  },
  {
   "cell_type": "markdown",
   "id": "9868cd5a-cbe3-4273-a8e0-c8a44bde8680",
   "metadata": {},
   "source": [
    "## Use Apply function"
   ]
  },
  {
   "cell_type": "code",
   "execution_count": 19,
   "id": "e7428b5c-cdff-403d-81ab-efc80a372b4b",
   "metadata": {},
   "outputs": [
    {
     "data": {
      "text/plain": [
       "0    2000\n",
       "1    2200\n",
       "2    1900\n",
       "3    1300\n",
       "4    1200\n",
       "5    1500\n",
       "Name: Salary, dtype: int64"
      ]
     },
     "execution_count": 19,
     "metadata": {},
     "output_type": "execute_result"
    }
   ],
   "source": [
    "# Use Apply function\n",
    "df.Salary.apply(times10)"
   ]
  },
  {
   "cell_type": "markdown",
   "id": "a0fe8ca1-41c7-4976-bc94-6a97ceac7904",
   "metadata": {},
   "source": [
    "## Append to current DataFrame"
   ]
  },
  {
   "cell_type": "code",
   "execution_count": 20,
   "id": "ca8ccc1c-22ae-4ed0-9dc1-9f64176a9ab8",
   "metadata": {},
   "outputs": [
    {
     "data": {
      "text/html": [
       "<div>\n",
       "<style scoped>\n",
       "    .dataframe tbody tr th:only-of-type {\n",
       "        vertical-align: middle;\n",
       "    }\n",
       "\n",
       "    .dataframe tbody tr th {\n",
       "        vertical-align: top;\n",
       "    }\n",
       "\n",
       "    .dataframe thead th {\n",
       "        text-align: right;\n",
       "    }\n",
       "</style>\n",
       "<table border=\"1\" class=\"dataframe\">\n",
       "  <thead>\n",
       "    <tr style=\"text-align: right;\">\n",
       "      <th></th>\n",
       "      <th>Corporation</th>\n",
       "      <th>Employees</th>\n",
       "      <th>Salary</th>\n",
       "    </tr>\n",
       "  </thead>\n",
       "  <tbody>\n",
       "    <tr>\n",
       "      <th>0</th>\n",
       "      <td>Apple</td>\n",
       "      <td>John</td>\n",
       "      <td>2000</td>\n",
       "    </tr>\n",
       "    <tr>\n",
       "      <th>1</th>\n",
       "      <td>Google</td>\n",
       "      <td>April</td>\n",
       "      <td>2200</td>\n",
       "    </tr>\n",
       "    <tr>\n",
       "      <th>2</th>\n",
       "      <td>Meta</td>\n",
       "      <td>Wes</td>\n",
       "      <td>1900</td>\n",
       "    </tr>\n",
       "    <tr>\n",
       "      <th>3</th>\n",
       "      <td>Apple</td>\n",
       "      <td>Beth</td>\n",
       "      <td>1300</td>\n",
       "    </tr>\n",
       "    <tr>\n",
       "      <th>4</th>\n",
       "      <td>Google</td>\n",
       "      <td>Justin</td>\n",
       "      <td>1200</td>\n",
       "    </tr>\n",
       "    <tr>\n",
       "      <th>5</th>\n",
       "      <td>Meta</td>\n",
       "      <td>Steph</td>\n",
       "      <td>1500</td>\n",
       "    </tr>\n",
       "  </tbody>\n",
       "</table>\n",
       "</div>"
      ],
      "text/plain": [
       "  Corporation Employees  Salary\n",
       "0       Apple      John    2000\n",
       "1      Google     April    2200\n",
       "2        Meta       Wes    1900\n",
       "3       Apple      Beth    1300\n",
       "4      Google    Justin    1200\n",
       "5        Meta     Steph    1500"
      ]
     },
     "execution_count": 20,
     "metadata": {},
     "output_type": "execute_result"
    }
   ],
   "source": [
    "# Append to current DataFrame\n",
    "df.Salary = df.Salary.apply(times10)\n",
    "df"
   ]
  },
  {
   "cell_type": "markdown",
   "id": "5e54d7e2-e6a8-4005-a067-a46dfc883ed4",
   "metadata": {},
   "source": [
    "## Apply Function on multiple columns"
   ]
  },
  {
   "cell_type": "code",
   "execution_count": 21,
   "id": "79fdf188-05d7-414c-bd3b-58446d0caa91",
   "metadata": {},
   "outputs": [],
   "source": [
    "# Apply Function on multiple columns\n",
    "def namer(x):\n",
    "    return \"Codemy: \" + x"
   ]
  },
  {
   "cell_type": "markdown",
   "id": "4dcb8839-a878-4a9d-86ab-1fd6811e03c6",
   "metadata": {
    "tags": []
   },
   "source": [
    "## Apply to two columns"
   ]
  },
  {
   "cell_type": "code",
   "execution_count": 22,
   "id": "07de1263-0e28-43ac-b7c3-8bf6e3d02500",
   "metadata": {},
   "outputs": [
    {
     "data": {
      "text/html": [
       "<div>\n",
       "<style scoped>\n",
       "    .dataframe tbody tr th:only-of-type {\n",
       "        vertical-align: middle;\n",
       "    }\n",
       "\n",
       "    .dataframe tbody tr th {\n",
       "        vertical-align: top;\n",
       "    }\n",
       "\n",
       "    .dataframe thead th {\n",
       "        text-align: right;\n",
       "    }\n",
       "</style>\n",
       "<table border=\"1\" class=\"dataframe\">\n",
       "  <thead>\n",
       "    <tr style=\"text-align: right;\">\n",
       "      <th></th>\n",
       "      <th>Corporation</th>\n",
       "      <th>Employees</th>\n",
       "    </tr>\n",
       "  </thead>\n",
       "  <tbody>\n",
       "    <tr>\n",
       "      <th>0</th>\n",
       "      <td>Codemy: Apple</td>\n",
       "      <td>Codemy: John</td>\n",
       "    </tr>\n",
       "    <tr>\n",
       "      <th>1</th>\n",
       "      <td>Codemy: Google</td>\n",
       "      <td>Codemy: April</td>\n",
       "    </tr>\n",
       "    <tr>\n",
       "      <th>2</th>\n",
       "      <td>Codemy: Meta</td>\n",
       "      <td>Codemy: Wes</td>\n",
       "    </tr>\n",
       "    <tr>\n",
       "      <th>3</th>\n",
       "      <td>Codemy: Apple</td>\n",
       "      <td>Codemy: Beth</td>\n",
       "    </tr>\n",
       "    <tr>\n",
       "      <th>4</th>\n",
       "      <td>Codemy: Google</td>\n",
       "      <td>Codemy: Justin</td>\n",
       "    </tr>\n",
       "    <tr>\n",
       "      <th>5</th>\n",
       "      <td>Codemy: Meta</td>\n",
       "      <td>Codemy: Steph</td>\n",
       "    </tr>\n",
       "  </tbody>\n",
       "</table>\n",
       "</div>"
      ],
      "text/plain": [
       "      Corporation       Employees\n",
       "0   Codemy: Apple    Codemy: John\n",
       "1  Codemy: Google   Codemy: April\n",
       "2    Codemy: Meta     Codemy: Wes\n",
       "3   Codemy: Apple    Codemy: Beth\n",
       "4  Codemy: Google  Codemy: Justin\n",
       "5    Codemy: Meta   Codemy: Steph"
      ]
     },
     "execution_count": 22,
     "metadata": {},
     "output_type": "execute_result"
    }
   ],
   "source": [
    "# Apply to two columns\n",
    "df[[\"Corporation\", \"Employees\"]].apply(namer)"
   ]
  },
  {
   "cell_type": "markdown",
   "id": "10044b07-fcc2-4b35-97a3-90e21011e220",
   "metadata": {},
   "source": [
    "## Append to DataFrame"
   ]
  },
  {
   "cell_type": "code",
   "execution_count": 23,
   "id": "33170ba8-8523-46b0-ba0d-1037ef35512d",
   "metadata": {},
   "outputs": [
    {
     "data": {
      "text/html": [
       "<div>\n",
       "<style scoped>\n",
       "    .dataframe tbody tr th:only-of-type {\n",
       "        vertical-align: middle;\n",
       "    }\n",
       "\n",
       "    .dataframe tbody tr th {\n",
       "        vertical-align: top;\n",
       "    }\n",
       "\n",
       "    .dataframe thead th {\n",
       "        text-align: right;\n",
       "    }\n",
       "</style>\n",
       "<table border=\"1\" class=\"dataframe\">\n",
       "  <thead>\n",
       "    <tr style=\"text-align: right;\">\n",
       "      <th></th>\n",
       "      <th>Corporation</th>\n",
       "      <th>Employees</th>\n",
       "      <th>Salary</th>\n",
       "    </tr>\n",
       "  </thead>\n",
       "  <tbody>\n",
       "    <tr>\n",
       "      <th>0</th>\n",
       "      <td>Codemy: Apple</td>\n",
       "      <td>Codemy: John</td>\n",
       "      <td>2000</td>\n",
       "    </tr>\n",
       "    <tr>\n",
       "      <th>1</th>\n",
       "      <td>Codemy: Google</td>\n",
       "      <td>Codemy: April</td>\n",
       "      <td>2200</td>\n",
       "    </tr>\n",
       "    <tr>\n",
       "      <th>2</th>\n",
       "      <td>Codemy: Meta</td>\n",
       "      <td>Codemy: Wes</td>\n",
       "      <td>1900</td>\n",
       "    </tr>\n",
       "    <tr>\n",
       "      <th>3</th>\n",
       "      <td>Codemy: Apple</td>\n",
       "      <td>Codemy: Beth</td>\n",
       "      <td>1300</td>\n",
       "    </tr>\n",
       "    <tr>\n",
       "      <th>4</th>\n",
       "      <td>Codemy: Google</td>\n",
       "      <td>Codemy: Justin</td>\n",
       "      <td>1200</td>\n",
       "    </tr>\n",
       "    <tr>\n",
       "      <th>5</th>\n",
       "      <td>Codemy: Meta</td>\n",
       "      <td>Codemy: Steph</td>\n",
       "      <td>1500</td>\n",
       "    </tr>\n",
       "  </tbody>\n",
       "</table>\n",
       "</div>"
      ],
      "text/plain": [
       "      Corporation       Employees  Salary\n",
       "0   Codemy: Apple    Codemy: John    2000\n",
       "1  Codemy: Google   Codemy: April    2200\n",
       "2    Codemy: Meta     Codemy: Wes    1900\n",
       "3   Codemy: Apple    Codemy: Beth    1300\n",
       "4  Codemy: Google  Codemy: Justin    1200\n",
       "5    Codemy: Meta   Codemy: Steph    1500"
      ]
     },
     "execution_count": 23,
     "metadata": {},
     "output_type": "execute_result"
    }
   ],
   "source": [
    "# Use a lambda\n",
    "df[[\"Corporation\", \"Employees\"]] = df[[\"Corporation\", \"Employees\"]].apply(namer)\n",
    "df"
   ]
  }
 ],
 "metadata": {
  "kernelspec": {
   "display_name": "Python 3 (ipykernel)",
   "language": "python",
   "name": "python3"
  },
  "language_info": {
   "codemirror_mode": {
    "name": "ipython",
    "version": 3
   },
   "file_extension": ".py",
   "mimetype": "text/x-python",
   "name": "python",
   "nbconvert_exporter": "python",
   "pygments_lexer": "ipython3",
   "version": "3.11.1"
  }
 },
 "nbformat": 4,
 "nbformat_minor": 5
}
