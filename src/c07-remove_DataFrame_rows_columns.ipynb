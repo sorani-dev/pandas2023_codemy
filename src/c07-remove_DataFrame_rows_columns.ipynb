{
 "cells": [
  {
   "cell_type": "markdown",
   "id": "d2b24a06-5200-40c2-8b50-f26624023cce",
   "metadata": {},
   "source": [
    "# Remove rows and columns from a DataFrame"
   ]
  },
  {
   "cell_type": "code",
   "execution_count": 67,
   "id": "5cb5063d-565b-4d64-bf25-59cba0bdae62",
   "metadata": {},
   "outputs": [
    {
     "data": {
      "text/html": [
       "<div>\n",
       "<style scoped>\n",
       "    .dataframe tbody tr th:only-of-type {\n",
       "        vertical-align: middle;\n",
       "    }\n",
       "\n",
       "    .dataframe tbody tr th {\n",
       "        vertical-align: top;\n",
       "    }\n",
       "\n",
       "    .dataframe thead th {\n",
       "        text-align: right;\n",
       "    }\n",
       "</style>\n",
       "<table border=\"1\" class=\"dataframe\">\n",
       "  <thead>\n",
       "    <tr style=\"text-align: right;\">\n",
       "      <th></th>\n",
       "      <th>Breed</th>\n",
       "      <th>Color</th>\n",
       "      <th>DogName</th>\n",
       "      <th>OwnerZip</th>\n",
       "    </tr>\n",
       "  </thead>\n",
       "  <tbody>\n",
       "    <tr>\n",
       "      <th>0</th>\n",
       "      <td>COCKAPOO</td>\n",
       "      <td>BROWN</td>\n",
       "      <td>CHARLEY</td>\n",
       "      <td>15236</td>\n",
       "    </tr>\n",
       "    <tr>\n",
       "      <th>1</th>\n",
       "      <td>GER SHEPHERD</td>\n",
       "      <td>BLACK/BROWN</td>\n",
       "      <td>TACODA</td>\n",
       "      <td>15238</td>\n",
       "    </tr>\n",
       "    <tr>\n",
       "      <th>2</th>\n",
       "      <td>BELG MALINOIS</td>\n",
       "      <td>BRINDLE</td>\n",
       "      <td>EICH</td>\n",
       "      <td>15238</td>\n",
       "    </tr>\n",
       "    <tr>\n",
       "      <th>3</th>\n",
       "      <td>MIXED</td>\n",
       "      <td>BLACK/BROWN</td>\n",
       "      <td>ARROW</td>\n",
       "      <td>15104</td>\n",
       "    </tr>\n",
       "    <tr>\n",
       "      <th>4</th>\n",
       "      <td>AM PIT BULL TERRIER</td>\n",
       "      <td>WHITE/BROWN</td>\n",
       "      <td>OAKLEY</td>\n",
       "      <td>15139</td>\n",
       "    </tr>\n",
       "  </tbody>\n",
       "</table>\n",
       "</div>"
      ],
      "text/plain": [
       "                 Breed        Color  DogName  OwnerZip\n",
       "0             COCKAPOO        BROWN  CHARLEY     15236\n",
       "1         GER SHEPHERD  BLACK/BROWN   TACODA     15238\n",
       "2        BELG MALINOIS      BRINDLE     EICH     15238\n",
       "3                MIXED  BLACK/BROWN    ARROW     15104\n",
       "4  AM PIT BULL TERRIER  WHITE/BROWN   OAKLEY     15139"
      ]
     },
     "execution_count": 67,
     "metadata": {},
     "output_type": "execute_result"
    }
   ],
   "source": [
    "import pandas as pd\n",
    "import numpy as np\n",
    "\n",
    "df = pd.read_csv('data/dog_data_short.csv')\n",
    "df"
   ]
  },
  {
   "cell_type": "code",
   "execution_count": 68,
   "id": "a322c4b1-d545-46d6-840f-776e96099133",
   "metadata": {},
   "outputs": [
    {
     "data": {
      "text/html": [
       "<div>\n",
       "<style scoped>\n",
       "    .dataframe tbody tr th:only-of-type {\n",
       "        vertical-align: middle;\n",
       "    }\n",
       "\n",
       "    .dataframe tbody tr th {\n",
       "        vertical-align: top;\n",
       "    }\n",
       "\n",
       "    .dataframe thead th {\n",
       "        text-align: right;\n",
       "    }\n",
       "</style>\n",
       "<table border=\"1\" class=\"dataframe\">\n",
       "  <thead>\n",
       "    <tr style=\"text-align: right;\">\n",
       "      <th></th>\n",
       "      <th>Breed</th>\n",
       "      <th>Color</th>\n",
       "      <th>DogName</th>\n",
       "      <th>OwnerZip</th>\n",
       "      <th>Gender</th>\n",
       "    </tr>\n",
       "  </thead>\n",
       "  <tbody>\n",
       "    <tr>\n",
       "      <th>0</th>\n",
       "      <td>COCKAPOO</td>\n",
       "      <td>BROWN</td>\n",
       "      <td>CHARLEY</td>\n",
       "      <td>15236</td>\n",
       "      <td>Male</td>\n",
       "    </tr>\n",
       "    <tr>\n",
       "      <th>1</th>\n",
       "      <td>GER SHEPHERD</td>\n",
       "      <td>BLACK/BROWN</td>\n",
       "      <td>TACODA</td>\n",
       "      <td>15238</td>\n",
       "      <td>Female</td>\n",
       "    </tr>\n",
       "    <tr>\n",
       "      <th>2</th>\n",
       "      <td>BELG MALINOIS</td>\n",
       "      <td>BRINDLE</td>\n",
       "      <td>EICH</td>\n",
       "      <td>15238</td>\n",
       "      <td>Male</td>\n",
       "    </tr>\n",
       "    <tr>\n",
       "      <th>3</th>\n",
       "      <td>MIXED</td>\n",
       "      <td>BLACK/BROWN</td>\n",
       "      <td>ARROW</td>\n",
       "      <td>15104</td>\n",
       "      <td>Male</td>\n",
       "    </tr>\n",
       "    <tr>\n",
       "      <th>4</th>\n",
       "      <td>AM PIT BULL TERRIER</td>\n",
       "      <td>WHITE/BROWN</td>\n",
       "      <td>OAKLEY</td>\n",
       "      <td>15139</td>\n",
       "      <td>Female</td>\n",
       "    </tr>\n",
       "  </tbody>\n",
       "</table>\n",
       "</div>"
      ],
      "text/plain": [
       "                 Breed        Color  DogName  OwnerZip  Gender\n",
       "0             COCKAPOO        BROWN  CHARLEY     15236    Male\n",
       "1         GER SHEPHERD  BLACK/BROWN   TACODA     15238  Female\n",
       "2        BELG MALINOIS      BRINDLE     EICH     15238    Male\n",
       "3                MIXED  BLACK/BROWN    ARROW     15104    Male\n",
       "4  AM PIT BULL TERRIER  WHITE/BROWN   OAKLEY     15139  Female"
      ]
     },
     "execution_count": 68,
     "metadata": {},
     "output_type": "execute_result"
    }
   ],
   "source": [
    "# Add Column from a List\n",
    "gender = [\"Male\", \"Female\",\"Male\",\"Male\", \"Female\"]\n",
    "df[\"Gender\"] = gender\n",
    "df"
   ]
  },
  {
   "cell_type": "markdown",
   "id": "85fcd9d6-fa3b-4054-9206-13fff51484e1",
   "metadata": {},
   "source": [
    "Remove a column with **drop(column name, axis=*0 for row, 1 for column*, inplace=*delete from current DataFrame: True else False*)** ((do not modify current DataFrame with inplace=False (default))"
   ]
  },
  {
   "cell_type": "code",
   "execution_count": 69,
   "id": "c9d08fc9-b8f7-4d2f-aa95-ef1bc04f333b",
   "metadata": {},
   "outputs": [
    {
     "data": {
      "text/html": [
       "<div>\n",
       "<style scoped>\n",
       "    .dataframe tbody tr th:only-of-type {\n",
       "        vertical-align: middle;\n",
       "    }\n",
       "\n",
       "    .dataframe tbody tr th {\n",
       "        vertical-align: top;\n",
       "    }\n",
       "\n",
       "    .dataframe thead th {\n",
       "        text-align: right;\n",
       "    }\n",
       "</style>\n",
       "<table border=\"1\" class=\"dataframe\">\n",
       "  <thead>\n",
       "    <tr style=\"text-align: right;\">\n",
       "      <th></th>\n",
       "      <th>Breed</th>\n",
       "      <th>Color</th>\n",
       "      <th>DogName</th>\n",
       "      <th>OwnerZip</th>\n",
       "      <th>Gender</th>\n",
       "    </tr>\n",
       "  </thead>\n",
       "  <tbody>\n",
       "    <tr>\n",
       "      <th>0</th>\n",
       "      <td>COCKAPOO</td>\n",
       "      <td>BROWN</td>\n",
       "      <td>CHARLEY</td>\n",
       "      <td>15236</td>\n",
       "      <td>Male</td>\n",
       "    </tr>\n",
       "    <tr>\n",
       "      <th>1</th>\n",
       "      <td>GER SHEPHERD</td>\n",
       "      <td>BLACK/BROWN</td>\n",
       "      <td>TACODA</td>\n",
       "      <td>15238</td>\n",
       "      <td>Female</td>\n",
       "    </tr>\n",
       "    <tr>\n",
       "      <th>2</th>\n",
       "      <td>BELG MALINOIS</td>\n",
       "      <td>BRINDLE</td>\n",
       "      <td>EICH</td>\n",
       "      <td>15238</td>\n",
       "      <td>Male</td>\n",
       "    </tr>\n",
       "    <tr>\n",
       "      <th>3</th>\n",
       "      <td>MIXED</td>\n",
       "      <td>BLACK/BROWN</td>\n",
       "      <td>ARROW</td>\n",
       "      <td>15104</td>\n",
       "      <td>Male</td>\n",
       "    </tr>\n",
       "    <tr>\n",
       "      <th>4</th>\n",
       "      <td>AM PIT BULL TERRIER</td>\n",
       "      <td>WHITE/BROWN</td>\n",
       "      <td>OAKLEY</td>\n",
       "      <td>15139</td>\n",
       "      <td>Female</td>\n",
       "    </tr>\n",
       "  </tbody>\n",
       "</table>\n",
       "</div>"
      ],
      "text/plain": [
       "                 Breed        Color  DogName  OwnerZip  Gender\n",
       "0             COCKAPOO        BROWN  CHARLEY     15236    Male\n",
       "1         GER SHEPHERD  BLACK/BROWN   TACODA     15238  Female\n",
       "2        BELG MALINOIS      BRINDLE     EICH     15238    Male\n",
       "3                MIXED  BLACK/BROWN    ARROW     15104    Male\n",
       "4  AM PIT BULL TERRIER  WHITE/BROWN   OAKLEY     15139  Female"
      ]
     },
     "execution_count": 69,
     "metadata": {},
     "output_type": "execute_result"
    }
   ],
   "source": [
    "# Remove column\n",
    "df.drop(\"Gender\", axis=1) # drop column and returns None (does not modify\n",
    "df"
   ]
  },
  {
   "cell_type": "markdown",
   "id": "4171505e-11d0-411c-ae74-722fc1efefe8",
   "metadata": {},
   "source": [
    "Remove a column (modify current DataFrame with inplace=True)"
   ]
  },
  {
   "cell_type": "code",
   "execution_count": 70,
   "id": "c7f06db1-1c94-43df-aedb-694485216ed1",
   "metadata": {},
   "outputs": [
    {
     "data": {
      "text/plain": [
       "(                 Breed        Color  DogName  OwnerZip  Gender\n",
       " 0             COCKAPOO        BROWN  CHARLEY     15236    Male\n",
       " 1         GER SHEPHERD  BLACK/BROWN   TACODA     15238  Female\n",
       " 2        BELG MALINOIS      BRINDLE     EICH     15238    Male\n",
       " 3                MIXED  BLACK/BROWN    ARROW     15104    Male\n",
       " 4  AM PIT BULL TERRIER  WHITE/BROWN   OAKLEY     15139  Female,\n",
       "                  Breed        Color  DogName  OwnerZip\n",
       " 0             COCKAPOO        BROWN  CHARLEY     15236\n",
       " 1         GER SHEPHERD  BLACK/BROWN   TACODA     15238\n",
       " 2        BELG MALINOIS      BRINDLE     EICH     15238\n",
       " 3                MIXED  BLACK/BROWN    ARROW     15104\n",
       " 4  AM PIT BULL TERRIER  WHITE/BROWN   OAKLEY     15139)"
      ]
     },
     "execution_count": 70,
     "metadata": {},
     "output_type": "execute_result"
    }
   ],
   "source": [
    "# Remove column\n",
    "df2 = df.copy()\n",
    "df2.drop(\"Gender\", axis=1, inplace=True) # drop column as returns None\n",
    "df, df2"
   ]
  },
  {
   "cell_type": "markdown",
   "id": "65233468-9adc-4a6e-a2a8-9b0ecfd335b3",
   "metadata": {},
   "source": [
    "Remove a column (modify current DataFrame and returns a copy)"
   ]
  },
  {
   "cell_type": "code",
   "execution_count": 71,
   "id": "2d9715e1-7999-429c-9fbe-a081eff2b15c",
   "metadata": {},
   "outputs": [],
   "source": [
    "# Remove column\n",
    "df = df.drop(\"Gender\", axis=1) # drop column and return a copy of the changed DataFrame"
   ]
  },
  {
   "cell_type": "markdown",
   "id": "afa73880-8cbe-4ae3-9b20-ff16dc367dcb",
   "metadata": {},
   "source": [
    "Replace a Row (**drop(row number)**)\n",
    " no modification (returns a copy)"
   ]
  },
  {
   "cell_type": "code",
   "execution_count": 72,
   "id": "92e7b5a8-bf84-4b2b-bf75-ab8e30d9934b",
   "metadata": {},
   "outputs": [
    {
     "data": {
      "text/plain": [
       "(                 Breed        Color  DogName  OwnerZip\n",
       " 0             COCKAPOO        BROWN  CHARLEY     15236\n",
       " 1         GER SHEPHERD  BLACK/BROWN   TACODA     15238\n",
       " 2        BELG MALINOIS      BRINDLE     EICH     15238\n",
       " 4  AM PIT BULL TERRIER  WHITE/BROWN   OAKLEY     15139,\n",
       "                  Breed        Color  DogName  OwnerZip\n",
       " 0             COCKAPOO        BROWN  CHARLEY     15236\n",
       " 1         GER SHEPHERD  BLACK/BROWN   TACODA     15238\n",
       " 2        BELG MALINOIS      BRINDLE     EICH     15238\n",
       " 3                MIXED  BLACK/BROWN    ARROW     15104\n",
       " 4  AM PIT BULL TERRIER  WHITE/BROWN   OAKLEY     15139)"
      ]
     },
     "execution_count": 72,
     "metadata": {},
     "output_type": "execute_result"
    }
   ],
   "source": [
    "# Replace a row\n",
    "# Replace third row (returns a copy)\n",
    "df2 = df.drop(3, axis=0)\n",
    "df2, df"
   ]
  },
  {
   "cell_type": "markdown",
   "id": "2c7d6a0e-102a-41ca-934e-596eb5f48edd",
   "metadata": {},
   "source": [
    "Replace a row (other notation)"
   ]
  },
  {
   "cell_type": "code",
   "execution_count": 73,
   "id": "36cf6343-f48c-459b-b4dd-c8bd98f939db",
   "metadata": {},
   "outputs": [
    {
     "data": {
      "text/plain": [
       "(                 Breed        Color  DogName  OwnerZip\n",
       " 0             COCKAPOO        BROWN  CHARLEY     15236\n",
       " 1         GER SHEPHERD  BLACK/BROWN   TACODA     15238\n",
       " 2        BELG MALINOIS      BRINDLE     EICH     15238\n",
       " 4  AM PIT BULL TERRIER  WHITE/BROWN   OAKLEY     15139,\n",
       "                  Breed        Color  DogName  OwnerZip\n",
       " 0             COCKAPOO        BROWN  CHARLEY     15236\n",
       " 1         GER SHEPHERD  BLACK/BROWN   TACODA     15238\n",
       " 2        BELG MALINOIS      BRINDLE     EICH     15238\n",
       " 3                MIXED  BLACK/BROWN    ARROW     15104\n",
       " 4  AM PIT BULL TERRIER  WHITE/BROWN   OAKLEY     15139)"
      ]
     },
     "execution_count": 73,
     "metadata": {},
     "output_type": "execute_result"
    }
   ],
   "source": [
    "# Replace a row\n",
    "# Replace third row (returns a copy)\n",
    "df2 = df.drop(index=3, axis=0)\n",
    "df2, df"
   ]
  },
  {
   "cell_type": "markdown",
   "id": "79f08aae-0f4d-4e78-ada7-a8f0e98a98c3",
   "metadata": {},
   "source": [
    "Replace a Row (**drop(row number)**)\n",
    " modify current DataFrame and returns None"
   ]
  },
  {
   "cell_type": "code",
   "execution_count": 74,
   "id": "e994306a-369d-4ff7-a909-4235282e09d0",
   "metadata": {},
   "outputs": [
    {
     "data": {
      "text/plain": [
       "(None,\n",
       "                  Breed        Color  DogName  OwnerZip\n",
       " 0             COCKAPOO        BROWN  CHARLEY     15236\n",
       " 1         GER SHEPHERD  BLACK/BROWN   TACODA     15238\n",
       " 2        BELG MALINOIS      BRINDLE     EICH     15238\n",
       " 4  AM PIT BULL TERRIER  WHITE/BROWN   OAKLEY     15139)"
      ]
     },
     "execution_count": 74,
     "metadata": {},
     "output_type": "execute_result"
    }
   ],
   "source": [
    "# Replace a row\n",
    "# Replace third row (replace current DataFrame and returns None)\n",
    "df2 = df.drop(3, axis=0, inplace=True)\n",
    "df2, df"
   ]
  }
 ],
 "metadata": {
  "kernelspec": {
   "display_name": "Python 3 (ipykernel)",
   "language": "python",
   "name": "python3"
  },
  "language_info": {
   "codemirror_mode": {
    "name": "ipython",
    "version": 3
   },
   "file_extension": ".py",
   "mimetype": "text/x-python",
   "name": "python",
   "nbconvert_exporter": "python",
   "pygments_lexer": "ipython3",
   "version": "3.11.1"
  }
 },
 "nbformat": 4,
 "nbformat_minor": 5
}
