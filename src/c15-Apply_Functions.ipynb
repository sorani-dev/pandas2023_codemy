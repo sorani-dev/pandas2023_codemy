{
 "cells": [
  {
   "cell_type": "markdown",
   "id": "0a786dd8-1b2e-4165-8dee-3101a4496503",
   "metadata": {},
   "source": [
    "# Apply Functions to DataFrame"
   ]
  },
  {
   "cell_type": "code",
   "execution_count": 46,
   "id": "fe2f7e87-5c13-411b-827a-8e86fdcb019e",
   "metadata": {},
   "outputs": [
    {
     "data": {
      "text/html": [
       "<div>\n",
       "<style scoped>\n",
       "    .dataframe tbody tr th:only-of-type {\n",
       "        vertical-align: middle;\n",
       "    }\n",
       "\n",
       "    .dataframe tbody tr th {\n",
       "        vertical-align: top;\n",
       "    }\n",
       "\n",
       "    .dataframe thead th {\n",
       "        text-align: right;\n",
       "    }\n",
       "</style>\n",
       "<table border=\"1\" class=\"dataframe\">\n",
       "  <thead>\n",
       "    <tr style=\"text-align: right;\">\n",
       "      <th></th>\n",
       "      <th>Corporation</th>\n",
       "      <th>Employees</th>\n",
       "      <th>Salary</th>\n",
       "    </tr>\n",
       "  </thead>\n",
       "  <tbody>\n",
       "    <tr>\n",
       "      <th>0</th>\n",
       "      <td>Apple</td>\n",
       "      <td>John</td>\n",
       "      <td>200</td>\n",
       "    </tr>\n",
       "    <tr>\n",
       "      <th>1</th>\n",
       "      <td>Google</td>\n",
       "      <td>April</td>\n",
       "      <td>220</td>\n",
       "    </tr>\n",
       "    <tr>\n",
       "      <th>2</th>\n",
       "      <td>Meta</td>\n",
       "      <td>Wes</td>\n",
       "      <td>190</td>\n",
       "    </tr>\n",
       "    <tr>\n",
       "      <th>3</th>\n",
       "      <td>Apple</td>\n",
       "      <td>Beth</td>\n",
       "      <td>130</td>\n",
       "    </tr>\n",
       "    <tr>\n",
       "      <th>4</th>\n",
       "      <td>Google</td>\n",
       "      <td>Justin</td>\n",
       "      <td>120</td>\n",
       "    </tr>\n",
       "    <tr>\n",
       "      <th>5</th>\n",
       "      <td>Meta</td>\n",
       "      <td>Steph</td>\n",
       "      <td>150</td>\n",
       "    </tr>\n",
       "  </tbody>\n",
       "</table>\n",
       "</div>"
      ],
      "text/plain": [
       "  Corporation Employees  Salary\n",
       "0       Apple      John     200\n",
       "1      Google     April     220\n",
       "2        Meta       Wes     190\n",
       "3       Apple      Beth     130\n",
       "4      Google    Justin     120\n",
       "5        Meta     Steph     150"
      ]
     },
     "execution_count": 46,
     "metadata": {},
     "output_type": "execute_result"
    }
   ],
   "source": [
    "import pandas as pd\n",
    "import numpy as np\n",
    "# Create Data\n",
    "stuff = {\n",
    "    'Corporation':['Apple', 'Google', 'Meta', 'Apple', 'Google','Meta'],\n",
    "    'Employees':['John', 'April', 'Wes', 'Beth', 'Justin', 'Steph'],\n",
    "    'Salary':[200, 220, 190, 130, 120, 150]}\n",
    "# Create Dataframe\n",
    "df = pd.DataFrame(stuff)\n",
    "df"
   ]
  },
  {
   "cell_type": "markdown",
   "id": "8a8da675-383d-469a-8f5a-dc8b7957e3a5",
   "metadata": {},
   "source": [
    "## Create Function"
   ]
  },
  {
   "cell_type": "code",
   "execution_count": 47,
   "id": "c06d129e-0ba5-4c11-8fdd-58115ea48373",
   "metadata": {},
   "outputs": [],
   "source": [
    "# Create Function\n",
    "def times1000(x):\n",
    "    return format(x * 1000, ',d')"
   ]
  },
  {
   "cell_type": "markdown",
   "id": "9868cd5a-cbe3-4273-a8e0-c8a44bde8680",
   "metadata": {},
   "source": [
    "## Use Apply function"
   ]
  },
  {
   "cell_type": "code",
   "execution_count": 48,
   "id": "e7428b5c-cdff-403d-81ab-efc80a372b4b",
   "metadata": {},
   "outputs": [
    {
     "data": {
      "text/plain": [
       "0    200,000\n",
       "1    220,000\n",
       "2    190,000\n",
       "3    130,000\n",
       "4    120,000\n",
       "5    150,000\n",
       "Name: Salary, dtype: object"
      ]
     },
     "execution_count": 48,
     "metadata": {},
     "output_type": "execute_result"
    }
   ],
   "source": [
    "# Use Apply function\n",
    "df.Salary.apply(times1000)"
   ]
  },
  {
   "cell_type": "markdown",
   "id": "5e54d7e2-e6a8-4005-a067-a46dfc883ed4",
   "metadata": {},
   "source": [
    "## Make it into a DataFrame"
   ]
  },
  {
   "cell_type": "code",
   "execution_count": 49,
   "id": "79fdf188-05d7-414c-bd3b-58446d0caa91",
   "metadata": {},
   "outputs": [
    {
     "data": {
      "text/html": [
       "<div>\n",
       "<style scoped>\n",
       "    .dataframe tbody tr th:only-of-type {\n",
       "        vertical-align: middle;\n",
       "    }\n",
       "\n",
       "    .dataframe tbody tr th {\n",
       "        vertical-align: top;\n",
       "    }\n",
       "\n",
       "    .dataframe thead th {\n",
       "        text-align: right;\n",
       "    }\n",
       "</style>\n",
       "<table border=\"1\" class=\"dataframe\">\n",
       "  <thead>\n",
       "    <tr style=\"text-align: right;\">\n",
       "      <th></th>\n",
       "      <th>Salary</th>\n",
       "    </tr>\n",
       "  </thead>\n",
       "  <tbody>\n",
       "    <tr>\n",
       "      <th>0</th>\n",
       "      <td>200,000</td>\n",
       "    </tr>\n",
       "    <tr>\n",
       "      <th>1</th>\n",
       "      <td>220,000</td>\n",
       "    </tr>\n",
       "    <tr>\n",
       "      <th>2</th>\n",
       "      <td>190,000</td>\n",
       "    </tr>\n",
       "    <tr>\n",
       "      <th>3</th>\n",
       "      <td>130,000</td>\n",
       "    </tr>\n",
       "    <tr>\n",
       "      <th>4</th>\n",
       "      <td>120,000</td>\n",
       "    </tr>\n",
       "    <tr>\n",
       "      <th>5</th>\n",
       "      <td>150,000</td>\n",
       "    </tr>\n",
       "  </tbody>\n",
       "</table>\n",
       "</div>"
      ],
      "text/plain": [
       "    Salary\n",
       "0  200,000\n",
       "1  220,000\n",
       "2  190,000\n",
       "3  130,000\n",
       "4  120,000\n",
       "5  150,000"
      ]
     },
     "execution_count": 49,
     "metadata": {},
     "output_type": "execute_result"
    }
   ],
   "source": [
    "# Make it into a DataFrame\n",
    "pd.DataFrame(df.Salary.apply(times1000))"
   ]
  },
  {
   "cell_type": "markdown",
   "id": "685116ab-1048-497a-acab-dd0df1b04963",
   "metadata": {
    "tags": []
   },
   "source": [
    "## Add Elder last name function"
   ]
  },
  {
   "cell_type": "code",
   "execution_count": 50,
   "id": "742c9ea6-4354-457a-a410-6f8bdcfb6ceb",
   "metadata": {},
   "outputs": [],
   "source": [
    "# Add Elder last name function\n",
    "\"\"\"def namer(x):\n",
    "    if x == \"John\":\n",
    "        return \"John Elder\"\n",
    "    else:\n",
    "        return x\n",
    "\"\"\"\n",
    "def namer(x):\n",
    "    return \"John Elder\" if x == \"John\" else x"
   ]
  },
  {
   "cell_type": "markdown",
   "id": "4dcb8839-a878-4a9d-86ab-1fd6811e03c6",
   "metadata": {
    "tags": []
   },
   "source": [
    "## Show Elder last name"
   ]
  },
  {
   "cell_type": "code",
   "execution_count": 51,
   "id": "07de1263-0e28-43ac-b7c3-8bf6e3d02500",
   "metadata": {},
   "outputs": [
    {
     "data": {
      "text/plain": [
       "0    John Elder\n",
       "1         April\n",
       "2           Wes\n",
       "3          Beth\n",
       "4        Justin\n",
       "5         Steph\n",
       "Name: Employees, dtype: object"
      ]
     },
     "execution_count": 51,
     "metadata": {},
     "output_type": "execute_result"
    }
   ],
   "source": [
    "# Show Elder last name\n",
    "df.Employees.apply(namer)"
   ]
  },
  {
   "cell_type": "markdown",
   "id": "10044b07-fcc2-4b35-97a3-90e21011e220",
   "metadata": {},
   "source": [
    "## Use a lambda function"
   ]
  },
  {
   "cell_type": "code",
   "execution_count": 52,
   "id": "33170ba8-8523-46b0-ba0d-1037ef35512d",
   "metadata": {},
   "outputs": [
    {
     "data": {
      "text/plain": [
       "0    200000\n",
       "1    220000\n",
       "2    190000\n",
       "3    130000\n",
       "4    120000\n",
       "5    150000\n",
       "Name: Salary, dtype: int64"
      ]
     },
     "execution_count": 52,
     "metadata": {},
     "output_type": "execute_result"
    }
   ],
   "source": [
    "# Use a lambda\n",
    "df.Salary.apply(lambda x: x * 1000)"
   ]
  },
  {
   "cell_type": "code",
   "execution_count": 53,
   "id": "fddcb0c7-66df-43d6-a390-ea02bd041422",
   "metadata": {},
   "outputs": [
    {
     "data": {
      "text/html": [
       "<div>\n",
       "<style scoped>\n",
       "    .dataframe tbody tr th:only-of-type {\n",
       "        vertical-align: middle;\n",
       "    }\n",
       "\n",
       "    .dataframe tbody tr th {\n",
       "        vertical-align: top;\n",
       "    }\n",
       "\n",
       "    .dataframe thead th {\n",
       "        text-align: right;\n",
       "    }\n",
       "</style>\n",
       "<table border=\"1\" class=\"dataframe\">\n",
       "  <thead>\n",
       "    <tr style=\"text-align: right;\">\n",
       "      <th></th>\n",
       "      <th>Salary</th>\n",
       "    </tr>\n",
       "  </thead>\n",
       "  <tbody>\n",
       "    <tr>\n",
       "      <th>0</th>\n",
       "      <td>200000</td>\n",
       "    </tr>\n",
       "    <tr>\n",
       "      <th>1</th>\n",
       "      <td>220000</td>\n",
       "    </tr>\n",
       "    <tr>\n",
       "      <th>2</th>\n",
       "      <td>190000</td>\n",
       "    </tr>\n",
       "    <tr>\n",
       "      <th>3</th>\n",
       "      <td>130000</td>\n",
       "    </tr>\n",
       "    <tr>\n",
       "      <th>4</th>\n",
       "      <td>120000</td>\n",
       "    </tr>\n",
       "    <tr>\n",
       "      <th>5</th>\n",
       "      <td>150000</td>\n",
       "    </tr>\n",
       "  </tbody>\n",
       "</table>\n",
       "</div>"
      ],
      "text/plain": [
       "   Salary\n",
       "0  200000\n",
       "1  220000\n",
       "2  190000\n",
       "3  130000\n",
       "4  120000\n",
       "5  150000"
      ]
     },
     "execution_count": 53,
     "metadata": {},
     "output_type": "execute_result"
    }
   ],
   "source": [
    "pd.DataFrame(df.Salary.apply(lambda x: x * 1000))"
   ]
  }
 ],
 "metadata": {
  "kernelspec": {
   "display_name": "Python 3 (ipykernel)",
   "language": "python",
   "name": "python3"
  },
  "language_info": {
   "codemirror_mode": {
    "name": "ipython",
    "version": 3
   },
   "file_extension": ".py",
   "mimetype": "text/x-python",
   "name": "python",
   "nbconvert_exporter": "python",
   "pygments_lexer": "ipython3",
   "version": "3.11.1"
  }
 },
 "nbformat": 4,
 "nbformat_minor": 5
}
