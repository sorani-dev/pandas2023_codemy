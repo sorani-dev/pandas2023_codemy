{
 "cells": [
  {
   "cell_type": "markdown",
   "id": "9ea5642b-47f0-4b82-9111-cfb858b48a9f",
   "metadata": {},
   "source": [
    "# Dataframe Group By "
   ]
  },
  {
   "cell_type": "code",
   "execution_count": 41,
   "id": "58b86fea-af05-4206-a282-1410da3de23b",
   "metadata": {},
   "outputs": [
    {
     "data": {
      "text/html": [
       "<div>\n",
       "<style scoped>\n",
       "    .dataframe tbody tr th:only-of-type {\n",
       "        vertical-align: middle;\n",
       "    }\n",
       "\n",
       "    .dataframe tbody tr th {\n",
       "        vertical-align: top;\n",
       "    }\n",
       "\n",
       "    .dataframe thead th {\n",
       "        text-align: right;\n",
       "    }\n",
       "</style>\n",
       "<table border=\"1\" class=\"dataframe\">\n",
       "  <thead>\n",
       "    <tr style=\"text-align: right;\">\n",
       "      <th></th>\n",
       "      <th>Corporation</th>\n",
       "      <th>Employees</th>\n",
       "      <th>Salary</th>\n",
       "    </tr>\n",
       "  </thead>\n",
       "  <tbody>\n",
       "    <tr>\n",
       "      <th>0</th>\n",
       "      <td>Apple</td>\n",
       "      <td>John</td>\n",
       "      <td>200</td>\n",
       "    </tr>\n",
       "    <tr>\n",
       "      <th>1</th>\n",
       "      <td>Google</td>\n",
       "      <td>April</td>\n",
       "      <td>220</td>\n",
       "    </tr>\n",
       "    <tr>\n",
       "      <th>2</th>\n",
       "      <td>Meta</td>\n",
       "      <td>Wes</td>\n",
       "      <td>190</td>\n",
       "    </tr>\n",
       "    <tr>\n",
       "      <th>3</th>\n",
       "      <td>Apple</td>\n",
       "      <td>Beth</td>\n",
       "      <td>130</td>\n",
       "    </tr>\n",
       "    <tr>\n",
       "      <th>4</th>\n",
       "      <td>Google</td>\n",
       "      <td>Justin</td>\n",
       "      <td>120</td>\n",
       "    </tr>\n",
       "    <tr>\n",
       "      <th>5</th>\n",
       "      <td>Meta</td>\n",
       "      <td>Steph</td>\n",
       "      <td>150</td>\n",
       "    </tr>\n",
       "  </tbody>\n",
       "</table>\n",
       "</div>"
      ],
      "text/plain": [
       "  Corporation Employees  Salary\n",
       "0       Apple      John     200\n",
       "1      Google     April     220\n",
       "2        Meta       Wes     190\n",
       "3       Apple      Beth     130\n",
       "4      Google    Justin     120\n",
       "5        Meta     Steph     150"
      ]
     },
     "execution_count": 41,
     "metadata": {},
     "output_type": "execute_result"
    }
   ],
   "source": [
    "import pandas as pd\n",
    "import numpy as np\n",
    "# Create Data\n",
    "stuff = {\n",
    "    'Corporation':['Apple', 'Google', 'Meta', 'Apple', 'Google','Meta'],\n",
    "    'Employees':['John', 'April', 'Wes', 'Beth', 'Justin', 'Steph'],\n",
    "    'Salary':[200, 220, 190, 130, 120, 150]}\n",
    "# Create Dataframe\n",
    "df = pd.DataFrame(stuff)\n",
    "df"
   ]
  },
  {
   "cell_type": "markdown",
   "id": "85cd4f84-eb7e-4d8f-b34e-7d511eb97f9d",
   "metadata": {},
   "source": [
    "## Group by Corporation - To get object location in memory"
   ]
  },
  {
   "cell_type": "code",
   "execution_count": 42,
   "id": "8a03e8ff-f787-4663-ab5b-671550f9111e",
   "metadata": {},
   "outputs": [
    {
     "data": {
      "text/plain": [
       "<pandas.core.groupby.generic.DataFrameGroupBy object at 0x00000202615F6010>"
      ]
     },
     "execution_count": 42,
     "metadata": {},
     "output_type": "execute_result"
    }
   ],
   "source": [
    "# Group by Corporation - To get object location in memory\n",
    "company = df.groupby(\"Corporation\")\n",
    "company"
   ]
  },
  {
   "cell_type": "markdown",
   "id": "e99e1ab0-5434-4db0-abbf-56a2c43e311b",
   "metadata": {},
   "source": [
    " When doing numeric operations on **groupby**, you must pass *numeric_only=True* as argument to the math function (*min*, *max*, *sum*, *std*, ...) but not on *count* or *describe*.\n",
    " \n",
    " See errors on function calls if *numeric_only* is neccessary or not"
   ]
  },
  {
   "cell_type": "markdown",
   "id": "daa0a8ea-0099-41a7-acc7-5a3bd435084d",
   "metadata": {},
   "source": [
    "## sum"
   ]
  },
  {
   "cell_type": "code",
   "execution_count": 43,
   "id": "5def231f-b4d8-4438-8ed3-da27d1727ca3",
   "metadata": {},
   "outputs": [
    {
     "data": {
      "text/html": [
       "<div>\n",
       "<style scoped>\n",
       "    .dataframe tbody tr th:only-of-type {\n",
       "        vertical-align: middle;\n",
       "    }\n",
       "\n",
       "    .dataframe tbody tr th {\n",
       "        vertical-align: top;\n",
       "    }\n",
       "\n",
       "    .dataframe thead th {\n",
       "        text-align: right;\n",
       "    }\n",
       "</style>\n",
       "<table border=\"1\" class=\"dataframe\">\n",
       "  <thead>\n",
       "    <tr style=\"text-align: right;\">\n",
       "      <th></th>\n",
       "      <th>Salary</th>\n",
       "    </tr>\n",
       "    <tr>\n",
       "      <th>Corporation</th>\n",
       "      <th></th>\n",
       "    </tr>\n",
       "  </thead>\n",
       "  <tbody>\n",
       "    <tr>\n",
       "      <th>Apple</th>\n",
       "      <td>330</td>\n",
       "    </tr>\n",
       "    <tr>\n",
       "      <th>Google</th>\n",
       "      <td>340</td>\n",
       "    </tr>\n",
       "    <tr>\n",
       "      <th>Meta</th>\n",
       "      <td>340</td>\n",
       "    </tr>\n",
       "  </tbody>\n",
       "</table>\n",
       "</div>"
      ],
      "text/plain": [
       "             Salary\n",
       "Corporation        \n",
       "Apple           330\n",
       "Google          340\n",
       "Meta            340"
      ]
     },
     "execution_count": 43,
     "metadata": {},
     "output_type": "execute_result"
    }
   ],
   "source": [
    "# sum\n",
    "company.sum(numeric_only=True)"
   ]
  },
  {
   "cell_type": "markdown",
   "id": "dd8370b9-ce80-4bb4-98e6-2464debbe071",
   "metadata": {},
   "source": [
    "## mean"
   ]
  },
  {
   "cell_type": "code",
   "execution_count": 44,
   "id": "942f3c28-5f24-41c1-98eb-14f150486f15",
   "metadata": {},
   "outputs": [
    {
     "data": {
      "text/html": [
       "<div>\n",
       "<style scoped>\n",
       "    .dataframe tbody tr th:only-of-type {\n",
       "        vertical-align: middle;\n",
       "    }\n",
       "\n",
       "    .dataframe tbody tr th {\n",
       "        vertical-align: top;\n",
       "    }\n",
       "\n",
       "    .dataframe thead th {\n",
       "        text-align: right;\n",
       "    }\n",
       "</style>\n",
       "<table border=\"1\" class=\"dataframe\">\n",
       "  <thead>\n",
       "    <tr style=\"text-align: right;\">\n",
       "      <th></th>\n",
       "      <th>Salary</th>\n",
       "    </tr>\n",
       "    <tr>\n",
       "      <th>Corporation</th>\n",
       "      <th></th>\n",
       "    </tr>\n",
       "  </thead>\n",
       "  <tbody>\n",
       "    <tr>\n",
       "      <th>Apple</th>\n",
       "      <td>165.0</td>\n",
       "    </tr>\n",
       "    <tr>\n",
       "      <th>Google</th>\n",
       "      <td>170.0</td>\n",
       "    </tr>\n",
       "    <tr>\n",
       "      <th>Meta</th>\n",
       "      <td>170.0</td>\n",
       "    </tr>\n",
       "  </tbody>\n",
       "</table>\n",
       "</div>"
      ],
      "text/plain": [
       "             Salary\n",
       "Corporation        \n",
       "Apple         165.0\n",
       "Google        170.0\n",
       "Meta          170.0"
      ]
     },
     "execution_count": 44,
     "metadata": {},
     "output_type": "execute_result"
    }
   ],
   "source": [
    "# mean\n",
    "company.mean(numeric_only=True)"
   ]
  },
  {
   "cell_type": "markdown",
   "id": "8801f0e6-08b9-4da3-b881-4b55ea90d276",
   "metadata": {},
   "source": [
    "## max, min"
   ]
  },
  {
   "cell_type": "code",
   "execution_count": 45,
   "id": "1b74d01c-9564-42c7-ad74-1c80b6daceb6",
   "metadata": {},
   "outputs": [
    {
     "data": {
      "text/plain": [
       "(             Salary\n",
       " Corporation        \n",
       " Apple           200\n",
       " Google          220\n",
       " Meta            190,\n",
       "              Salary\n",
       " Corporation        \n",
       " Apple           130\n",
       " Google          120\n",
       " Meta            150)"
      ]
     },
     "execution_count": 45,
     "metadata": {},
     "output_type": "execute_result"
    }
   ],
   "source": [
    "# max min\n",
    "company.max(numeric_only=True), company.min(numeric_only=True)"
   ]
  },
  {
   "cell_type": "markdown",
   "id": "e58eea69-975e-4e5f-a914-05d9e89beed4",
   "metadata": {},
   "source": [
    "## standard deviation"
   ]
  },
  {
   "cell_type": "code",
   "execution_count": 46,
   "id": "58a0713a-2e33-4280-a2a4-47951c666ceb",
   "metadata": {},
   "outputs": [
    {
     "data": {
      "text/html": [
       "<div>\n",
       "<style scoped>\n",
       "    .dataframe tbody tr th:only-of-type {\n",
       "        vertical-align: middle;\n",
       "    }\n",
       "\n",
       "    .dataframe tbody tr th {\n",
       "        vertical-align: top;\n",
       "    }\n",
       "\n",
       "    .dataframe thead th {\n",
       "        text-align: right;\n",
       "    }\n",
       "</style>\n",
       "<table border=\"1\" class=\"dataframe\">\n",
       "  <thead>\n",
       "    <tr style=\"text-align: right;\">\n",
       "      <th></th>\n",
       "      <th>Salary</th>\n",
       "    </tr>\n",
       "    <tr>\n",
       "      <th>Corporation</th>\n",
       "      <th></th>\n",
       "    </tr>\n",
       "  </thead>\n",
       "  <tbody>\n",
       "    <tr>\n",
       "      <th>Apple</th>\n",
       "      <td>49.497475</td>\n",
       "    </tr>\n",
       "    <tr>\n",
       "      <th>Google</th>\n",
       "      <td>70.710678</td>\n",
       "    </tr>\n",
       "    <tr>\n",
       "      <th>Meta</th>\n",
       "      <td>28.284271</td>\n",
       "    </tr>\n",
       "  </tbody>\n",
       "</table>\n",
       "</div>"
      ],
      "text/plain": [
       "                Salary\n",
       "Corporation           \n",
       "Apple        49.497475\n",
       "Google       70.710678\n",
       "Meta         28.284271"
      ]
     },
     "execution_count": 46,
     "metadata": {},
     "output_type": "execute_result"
    }
   ],
   "source": [
    "# standard deviation\n",
    "company.std(numeric_only=True)"
   ]
  },
  {
   "cell_type": "markdown",
   "id": "02c40ddb-408a-4050-a49b-16b877e160c3",
   "metadata": {},
   "source": [
    "## variance"
   ]
  },
  {
   "cell_type": "code",
   "execution_count": 47,
   "id": "1846bced-a5fa-41b4-ae20-83117a7e2619",
   "metadata": {},
   "outputs": [
    {
     "data": {
      "text/html": [
       "<div>\n",
       "<style scoped>\n",
       "    .dataframe tbody tr th:only-of-type {\n",
       "        vertical-align: middle;\n",
       "    }\n",
       "\n",
       "    .dataframe tbody tr th {\n",
       "        vertical-align: top;\n",
       "    }\n",
       "\n",
       "    .dataframe thead th {\n",
       "        text-align: right;\n",
       "    }\n",
       "</style>\n",
       "<table border=\"1\" class=\"dataframe\">\n",
       "  <thead>\n",
       "    <tr style=\"text-align: right;\">\n",
       "      <th></th>\n",
       "      <th>Salary</th>\n",
       "    </tr>\n",
       "    <tr>\n",
       "      <th>Corporation</th>\n",
       "      <th></th>\n",
       "    </tr>\n",
       "  </thead>\n",
       "  <tbody>\n",
       "    <tr>\n",
       "      <th>Apple</th>\n",
       "      <td>2450.0</td>\n",
       "    </tr>\n",
       "    <tr>\n",
       "      <th>Google</th>\n",
       "      <td>5000.0</td>\n",
       "    </tr>\n",
       "    <tr>\n",
       "      <th>Meta</th>\n",
       "      <td>800.0</td>\n",
       "    </tr>\n",
       "  </tbody>\n",
       "</table>\n",
       "</div>"
      ],
      "text/plain": [
       "             Salary\n",
       "Corporation        \n",
       "Apple        2450.0\n",
       "Google       5000.0\n",
       "Meta          800.0"
      ]
     },
     "execution_count": 47,
     "metadata": {},
     "output_type": "execute_result"
    }
   ],
   "source": [
    "# variance\n",
    "company.var(numeric_only=True)"
   ]
  },
  {
   "cell_type": "markdown",
   "id": "5e994242-1e94-4d44-8d9d-dd4d73bf715e",
   "metadata": {},
   "source": [
    "## count"
   ]
  },
  {
   "cell_type": "code",
   "execution_count": 48,
   "id": "190a27c8-414a-4871-992b-f1375c262ee9",
   "metadata": {},
   "outputs": [
    {
     "data": {
      "text/html": [
       "<div>\n",
       "<style scoped>\n",
       "    .dataframe tbody tr th:only-of-type {\n",
       "        vertical-align: middle;\n",
       "    }\n",
       "\n",
       "    .dataframe tbody tr th {\n",
       "        vertical-align: top;\n",
       "    }\n",
       "\n",
       "    .dataframe thead th {\n",
       "        text-align: right;\n",
       "    }\n",
       "</style>\n",
       "<table border=\"1\" class=\"dataframe\">\n",
       "  <thead>\n",
       "    <tr style=\"text-align: right;\">\n",
       "      <th></th>\n",
       "      <th>Employees</th>\n",
       "      <th>Salary</th>\n",
       "    </tr>\n",
       "    <tr>\n",
       "      <th>Corporation</th>\n",
       "      <th></th>\n",
       "      <th></th>\n",
       "    </tr>\n",
       "  </thead>\n",
       "  <tbody>\n",
       "    <tr>\n",
       "      <th>Apple</th>\n",
       "      <td>2</td>\n",
       "      <td>2</td>\n",
       "    </tr>\n",
       "    <tr>\n",
       "      <th>Google</th>\n",
       "      <td>2</td>\n",
       "      <td>2</td>\n",
       "    </tr>\n",
       "    <tr>\n",
       "      <th>Meta</th>\n",
       "      <td>2</td>\n",
       "      <td>2</td>\n",
       "    </tr>\n",
       "  </tbody>\n",
       "</table>\n",
       "</div>"
      ],
      "text/plain": [
       "             Employees  Salary\n",
       "Corporation                   \n",
       "Apple                2       2\n",
       "Google               2       2\n",
       "Meta                 2       2"
      ]
     },
     "execution_count": 48,
     "metadata": {},
     "output_type": "execute_result"
    }
   ],
   "source": [
    "# count\n",
    "company.count()"
   ]
  },
  {
   "cell_type": "code",
   "execution_count": 49,
   "id": "6775aace-59fb-4c35-bf62-5e2a75ce1d33",
   "metadata": {},
   "outputs": [],
   "source": [
    "## describe"
   ]
  },
  {
   "cell_type": "code",
   "execution_count": 50,
   "id": "6bc88c51-1ee4-4fd1-aa82-6f13bac8c0ef",
   "metadata": {},
   "outputs": [
    {
     "data": {
      "text/html": [
       "<div>\n",
       "<style scoped>\n",
       "    .dataframe tbody tr th:only-of-type {\n",
       "        vertical-align: middle;\n",
       "    }\n",
       "\n",
       "    .dataframe tbody tr th {\n",
       "        vertical-align: top;\n",
       "    }\n",
       "\n",
       "    .dataframe thead tr th {\n",
       "        text-align: left;\n",
       "    }\n",
       "\n",
       "    .dataframe thead tr:last-of-type th {\n",
       "        text-align: right;\n",
       "    }\n",
       "</style>\n",
       "<table border=\"1\" class=\"dataframe\">\n",
       "  <thead>\n",
       "    <tr>\n",
       "      <th></th>\n",
       "      <th colspan=\"8\" halign=\"left\">Salary</th>\n",
       "    </tr>\n",
       "    <tr>\n",
       "      <th></th>\n",
       "      <th>count</th>\n",
       "      <th>mean</th>\n",
       "      <th>std</th>\n",
       "      <th>min</th>\n",
       "      <th>25%</th>\n",
       "      <th>50%</th>\n",
       "      <th>75%</th>\n",
       "      <th>max</th>\n",
       "    </tr>\n",
       "    <tr>\n",
       "      <th>Corporation</th>\n",
       "      <th></th>\n",
       "      <th></th>\n",
       "      <th></th>\n",
       "      <th></th>\n",
       "      <th></th>\n",
       "      <th></th>\n",
       "      <th></th>\n",
       "      <th></th>\n",
       "    </tr>\n",
       "  </thead>\n",
       "  <tbody>\n",
       "    <tr>\n",
       "      <th>Apple</th>\n",
       "      <td>2.0</td>\n",
       "      <td>165.0</td>\n",
       "      <td>49.497475</td>\n",
       "      <td>130.0</td>\n",
       "      <td>147.5</td>\n",
       "      <td>165.0</td>\n",
       "      <td>182.5</td>\n",
       "      <td>200.0</td>\n",
       "    </tr>\n",
       "    <tr>\n",
       "      <th>Google</th>\n",
       "      <td>2.0</td>\n",
       "      <td>170.0</td>\n",
       "      <td>70.710678</td>\n",
       "      <td>120.0</td>\n",
       "      <td>145.0</td>\n",
       "      <td>170.0</td>\n",
       "      <td>195.0</td>\n",
       "      <td>220.0</td>\n",
       "    </tr>\n",
       "    <tr>\n",
       "      <th>Meta</th>\n",
       "      <td>2.0</td>\n",
       "      <td>170.0</td>\n",
       "      <td>28.284271</td>\n",
       "      <td>150.0</td>\n",
       "      <td>160.0</td>\n",
       "      <td>170.0</td>\n",
       "      <td>180.0</td>\n",
       "      <td>190.0</td>\n",
       "    </tr>\n",
       "  </tbody>\n",
       "</table>\n",
       "</div>"
      ],
      "text/plain": [
       "            Salary                                                     \n",
       "             count   mean        std    min    25%    50%    75%    max\n",
       "Corporation                                                            \n",
       "Apple          2.0  165.0  49.497475  130.0  147.5  165.0  182.5  200.0\n",
       "Google         2.0  170.0  70.710678  120.0  145.0  170.0  195.0  220.0\n",
       "Meta           2.0  170.0  28.284271  150.0  160.0  170.0  180.0  190.0"
      ]
     },
     "execution_count": 50,
     "metadata": {},
     "output_type": "execute_result"
    }
   ],
   "source": [
    "# describe\n",
    "company.describe()"
   ]
  },
  {
   "cell_type": "code",
   "execution_count": null,
   "id": "1319f83b-43a3-44e9-b677-191cbf01cf8a",
   "metadata": {},
   "outputs": [],
   "source": []
  }
 ],
 "metadata": {
  "kernelspec": {
   "display_name": "Python 3 (ipykernel)",
   "language": "python",
   "name": "python3"
  },
  "language_info": {
   "codemirror_mode": {
    "name": "ipython",
    "version": 3
   },
   "file_extension": ".py",
   "mimetype": "text/x-python",
   "name": "python",
   "nbconvert_exporter": "python",
   "pygments_lexer": "ipython3",
   "version": "3.11.1"
  }
 },
 "nbformat": 4,
 "nbformat_minor": 5
}
